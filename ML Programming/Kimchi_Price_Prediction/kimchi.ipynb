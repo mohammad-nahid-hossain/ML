{
 "cells": [
  {
   "cell_type": "code",
   "execution_count": 1,
   "metadata": {},
   "outputs": [],
   "source": [
    "import numpy as np\n",
    "import pandas as pd\n",
    "import matplotlib.pyplot as plt\n",
    "import datetime as dt\n",
    "import torch\n",
    "import torch.nn as nn\n",
    "\n",
    "import seaborn as sb\n",
    "from sklearn.preprocessing import LabelEncoder\n",
    "%matplotlib inline"
   ]
  },
  {
   "cell_type": "code",
   "execution_count": 2,
   "metadata": {},
   "outputs": [],
   "source": [
    "data_path = 'data/Kimchi_dataset.xlsx'"
   ]
  },
  {
   "cell_type": "code",
   "execution_count": 3,
   "metadata": {},
   "outputs": [],
   "source": [
    "data = pd.read_excel('Kimchi_dataset.xlsx')"
   ]
  },
  {
   "cell_type": "code",
   "execution_count": 4,
   "metadata": {},
   "outputs": [
    {
     "data": {
      "text/html": [
       "<div>\n",
       "<style scoped>\n",
       "    .dataframe tbody tr th:only-of-type {\n",
       "        vertical-align: middle;\n",
       "    }\n",
       "\n",
       "    .dataframe tbody tr th {\n",
       "        vertical-align: top;\n",
       "    }\n",
       "\n",
       "    .dataframe thead th {\n",
       "        text-align: right;\n",
       "    }\n",
       "</style>\n",
       "<table border=\"1\" class=\"dataframe\">\n",
       "  <thead>\n",
       "    <tr style=\"text-align: right;\">\n",
       "      <th></th>\n",
       "      <th>Date</th>\n",
       "      <th>Region</th>\n",
       "      <th>Total Volume</th>\n",
       "      <th>Total Boxes</th>\n",
       "      <th>Small Boxes</th>\n",
       "      <th>Large Boxes</th>\n",
       "      <th>XLarge Boxes</th>\n",
       "      <th>Price</th>\n",
       "    </tr>\n",
       "  </thead>\n",
       "  <tbody>\n",
       "    <tr>\n",
       "      <th>0</th>\n",
       "      <td>2018-03-25</td>\n",
       "      <td>Seoul</td>\n",
       "      <td>2321.82</td>\n",
       "      <td>2006.46</td>\n",
       "      <td>1996.46</td>\n",
       "      <td>10.00</td>\n",
       "      <td>0.0</td>\n",
       "      <td>1.71</td>\n",
       "    </tr>\n",
       "    <tr>\n",
       "      <th>1</th>\n",
       "      <td>2018-03-18</td>\n",
       "      <td>Seoul</td>\n",
       "      <td>3154.45</td>\n",
       "      <td>2580.60</td>\n",
       "      <td>2577.27</td>\n",
       "      <td>3.33</td>\n",
       "      <td>0.0</td>\n",
       "      <td>1.66</td>\n",
       "    </tr>\n",
       "    <tr>\n",
       "      <th>2</th>\n",
       "      <td>2018-03-11</td>\n",
       "      <td>Seoul</td>\n",
       "      <td>2570.52</td>\n",
       "      <td>2209.29</td>\n",
       "      <td>2209.29</td>\n",
       "      <td>0.00</td>\n",
       "      <td>0.0</td>\n",
       "      <td>1.68</td>\n",
       "    </tr>\n",
       "    <tr>\n",
       "      <th>3</th>\n",
       "      <td>2018-03-04</td>\n",
       "      <td>Seoul</td>\n",
       "      <td>3851.30</td>\n",
       "      <td>3242.98</td>\n",
       "      <td>3239.65</td>\n",
       "      <td>3.33</td>\n",
       "      <td>0.0</td>\n",
       "      <td>1.48</td>\n",
       "    </tr>\n",
       "    <tr>\n",
       "      <th>4</th>\n",
       "      <td>2018-02-25</td>\n",
       "      <td>Seoul</td>\n",
       "      <td>5356.63</td>\n",
       "      <td>4007.48</td>\n",
       "      <td>4007.48</td>\n",
       "      <td>0.00</td>\n",
       "      <td>0.0</td>\n",
       "      <td>1.56</td>\n",
       "    </tr>\n",
       "  </tbody>\n",
       "</table>\n",
       "</div>"
      ],
      "text/plain": [
       "        Date Region  Total Volume  Total Boxes  Small Boxes  Large Boxes  \\\n",
       "0 2018-03-25  Seoul       2321.82      2006.46      1996.46        10.00   \n",
       "1 2018-03-18  Seoul       3154.45      2580.60      2577.27         3.33   \n",
       "2 2018-03-11  Seoul       2570.52      2209.29      2209.29         0.00   \n",
       "3 2018-03-04  Seoul       3851.30      3242.98      3239.65         3.33   \n",
       "4 2018-02-25  Seoul       5356.63      4007.48      4007.48         0.00   \n",
       "\n",
       "   XLarge Boxes  Price  \n",
       "0           0.0   1.71  \n",
       "1           0.0   1.66  \n",
       "2           0.0   1.68  \n",
       "3           0.0   1.48  \n",
       "4           0.0   1.56  "
      ]
     },
     "execution_count": 4,
     "metadata": {},
     "output_type": "execute_result"
    }
   ],
   "source": [
    "data.head()"
   ]
  },
  {
   "cell_type": "code",
   "execution_count": 5,
   "metadata": {},
   "outputs": [
    {
     "name": "stdout",
     "output_type": "stream",
     "text": [
      "<class 'pandas.core.frame.DataFrame'>\n",
      "RangeIndex: 648 entries, 0 to 647\n",
      "Data columns (total 8 columns):\n",
      " #   Column        Non-Null Count  Dtype         \n",
      "---  ------        --------------  -----         \n",
      " 0   Date          648 non-null    datetime64[ns]\n",
      " 1   Region        648 non-null    object        \n",
      " 2   Total Volume  647 non-null    float64       \n",
      " 3   Total Boxes   648 non-null    float64       \n",
      " 4   Small Boxes   648 non-null    float64       \n",
      " 5   Large Boxes   648 non-null    float64       \n",
      " 6   XLarge Boxes  648 non-null    float64       \n",
      " 7   Price         644 non-null    float64       \n",
      "dtypes: datetime64[ns](1), float64(6), object(1)\n",
      "memory usage: 40.6+ KB\n"
     ]
    }
   ],
   "source": [
    "data.info()"
   ]
  },
  {
   "cell_type": "code",
   "execution_count": 6,
   "metadata": {},
   "outputs": [
    {
     "data": {
      "text/plain": [
       "Date            0\n",
       "Region          0\n",
       "Total Volume    1\n",
       "Total Boxes     0\n",
       "Small Boxes     0\n",
       "Large Boxes     0\n",
       "XLarge Boxes    0\n",
       "Price           4\n",
       "dtype: int64"
      ]
     },
     "execution_count": 6,
     "metadata": {},
     "output_type": "execute_result"
    }
   ],
   "source": [
    "data.isnull().sum()"
   ]
  },
  {
   "cell_type": "code",
   "execution_count": 6,
   "metadata": {},
   "outputs": [
    {
     "data": {
      "text/html": [
       "<div>\n",
       "<style scoped>\n",
       "    .dataframe tbody tr th:only-of-type {\n",
       "        vertical-align: middle;\n",
       "    }\n",
       "\n",
       "    .dataframe tbody tr th {\n",
       "        vertical-align: top;\n",
       "    }\n",
       "\n",
       "    .dataframe thead th {\n",
       "        text-align: right;\n",
       "    }\n",
       "</style>\n",
       "<table border=\"1\" class=\"dataframe\">\n",
       "  <thead>\n",
       "    <tr style=\"text-align: right;\">\n",
       "      <th></th>\n",
       "      <th>count</th>\n",
       "      <th>mean</th>\n",
       "      <th>std</th>\n",
       "      <th>min</th>\n",
       "      <th>25%</th>\n",
       "      <th>50%</th>\n",
       "      <th>75%</th>\n",
       "      <th>max</th>\n",
       "    </tr>\n",
       "  </thead>\n",
       "  <tbody>\n",
       "    <tr>\n",
       "      <th>Total Volume</th>\n",
       "      <td>647.0</td>\n",
       "      <td>75005.910000</td>\n",
       "      <td>212743.996169</td>\n",
       "      <td>2064.90</td>\n",
       "      <td>9168.7500</td>\n",
       "      <td>17722.27</td>\n",
       "      <td>41172.0950</td>\n",
       "      <td>1814929.97</td>\n",
       "    </tr>\n",
       "    <tr>\n",
       "      <th>Total Boxes</th>\n",
       "      <td>648.0</td>\n",
       "      <td>49639.351898</td>\n",
       "      <td>140777.215528</td>\n",
       "      <td>988.45</td>\n",
       "      <td>6724.7125</td>\n",
       "      <td>11860.87</td>\n",
       "      <td>29157.0050</td>\n",
       "      <td>1124621.50</td>\n",
       "    </tr>\n",
       "    <tr>\n",
       "      <th>Small Boxes</th>\n",
       "      <td>648.0</td>\n",
       "      <td>40598.748580</td>\n",
       "      <td>115044.249219</td>\n",
       "      <td>284.43</td>\n",
       "      <td>4813.2050</td>\n",
       "      <td>9120.54</td>\n",
       "      <td>25105.7425</td>\n",
       "      <td>944572.50</td>\n",
       "    </tr>\n",
       "    <tr>\n",
       "      <th>Large Boxes</th>\n",
       "      <td>648.0</td>\n",
       "      <td>9032.257948</td>\n",
       "      <td>29633.321649</td>\n",
       "      <td>0.00</td>\n",
       "      <td>14.3225</td>\n",
       "      <td>622.72</td>\n",
       "      <td>3289.0350</td>\n",
       "      <td>267818.31</td>\n",
       "    </tr>\n",
       "    <tr>\n",
       "      <th>XLarge Boxes</th>\n",
       "      <td>648.0</td>\n",
       "      <td>8.345370</td>\n",
       "      <td>43.304003</td>\n",
       "      <td>0.00</td>\n",
       "      <td>0.0000</td>\n",
       "      <td>0.00</td>\n",
       "      <td>0.0000</td>\n",
       "      <td>510.41</td>\n",
       "    </tr>\n",
       "    <tr>\n",
       "      <th>Price</th>\n",
       "      <td>644.0</td>\n",
       "      <td>6.533540</td>\n",
       "      <td>118.516792</td>\n",
       "      <td>1.01</td>\n",
       "      <td>1.4100</td>\n",
       "      <td>1.55</td>\n",
       "      <td>1.7100</td>\n",
       "      <td>3003.00</td>\n",
       "    </tr>\n",
       "  </tbody>\n",
       "</table>\n",
       "</div>"
      ],
      "text/plain": [
       "              count          mean            std      min        25%  \\\n",
       "Total Volume  647.0  75005.910000  212743.996169  2064.90  9168.7500   \n",
       "Total Boxes   648.0  49639.351898  140777.215528   988.45  6724.7125   \n",
       "Small Boxes   648.0  40598.748580  115044.249219   284.43  4813.2050   \n",
       "Large Boxes   648.0   9032.257948   29633.321649     0.00    14.3225   \n",
       "XLarge Boxes  648.0      8.345370      43.304003     0.00     0.0000   \n",
       "Price         644.0      6.533540     118.516792     1.01     1.4100   \n",
       "\n",
       "                   50%         75%         max  \n",
       "Total Volume  17722.27  41172.0950  1814929.97  \n",
       "Total Boxes   11860.87  29157.0050  1124621.50  \n",
       "Small Boxes    9120.54  25105.7425   944572.50  \n",
       "Large Boxes     622.72   3289.0350   267818.31  \n",
       "XLarge Boxes      0.00      0.0000      510.41  \n",
       "Price             1.55      1.7100     3003.00  "
      ]
     },
     "execution_count": 6,
     "metadata": {},
     "output_type": "execute_result"
    }
   ],
   "source": [
    "data.describe().T"
   ]
  },
  {
   "cell_type": "markdown",
   "metadata": {},
   "source": [
    "### Filling the missing value with forward fill method."
   ]
  },
  {
   "cell_type": "code",
   "execution_count": 76,
   "metadata": {},
   "outputs": [],
   "source": [
    "#data.fillna(method='ffill', inplace = True)\n",
    "\n",
    "data = data.dropna()"
   ]
  },
  {
   "cell_type": "code",
   "execution_count": 77,
   "metadata": {},
   "outputs": [
    {
     "data": {
      "text/plain": [
       "Date            0\n",
       "Region          0\n",
       "Total Volume    0\n",
       "Total Boxes     0\n",
       "Small Boxes     0\n",
       "Large Boxes     0\n",
       "XLarge Boxes    0\n",
       "Price           0\n",
       "dtype: int64"
      ]
     },
     "execution_count": 77,
     "metadata": {},
     "output_type": "execute_result"
    }
   ],
   "source": [
    "data.isnull().sum()"
   ]
  },
  {
   "cell_type": "code",
   "execution_count": 80,
   "metadata": {},
   "outputs": [
    {
     "data": {
      "text/plain": [
       "array([29, 21, 40,  1, 35,  4,  6, 22, 14,  8, 26,  0,  2,  3,  5,  9, 11,\n",
       "       12, 13, 18, 23, 32, 33, 27, 39, 36, 28, 24, 31, 20, 25, 30, 34, 37,\n",
       "       38,  7, 16, 17, 10, 15, 19])"
      ]
     },
     "execution_count": 80,
     "metadata": {},
     "output_type": "execute_result"
    }
   ],
   "source": [
    "data.Region.unique()"
   ]
  },
  {
   "cell_type": "code",
   "execution_count": 81,
   "metadata": {},
   "outputs": [
    {
     "name": "stderr",
     "output_type": "stream",
     "text": [
      "<ipython-input-81-c0ab4391aaa2>:3: SettingWithCopyWarning: \n",
      "A value is trying to be set on a copy of a slice from a DataFrame.\n",
      "Try using .loc[row_indexer,col_indexer] = value instead\n",
      "\n",
      "See the caveats in the documentation: http://pandas.pydata.org/pandas-docs/stable/user_guide/indexing.html#returning-a-view-versus-a-copy\n",
      "  data['Region'] = label_encoder.transform(data.Region)\n"
     ]
    }
   ],
   "source": [
    "label_encoder = LabelEncoder()\n",
    "label_encoder = label_encoder.fit(data.Region)\n",
    "data['Region'] = label_encoder.transform(data.Region)"
   ]
  },
  {
   "cell_type": "code",
   "execution_count": 82,
   "metadata": {},
   "outputs": [
    {
     "data": {
      "text/plain": [
       "array([29, 21, 40,  1, 35,  4,  6, 22, 14,  8, 26,  0,  2,  3,  5,  9, 11,\n",
       "       12, 13, 18, 23, 32, 33, 27, 39, 36, 28, 24, 31, 20, 25, 30, 34, 37,\n",
       "       38,  7, 16, 17, 10, 15, 19])"
      ]
     },
     "execution_count": 82,
     "metadata": {},
     "output_type": "execute_result"
    }
   ],
   "source": [
    "data.Region.unique()"
   ]
  },
  {
   "cell_type": "markdown",
   "metadata": {},
   "source": [
    "### Finding the correlation among the features"
   ]
  },
  {
   "cell_type": "code",
   "execution_count": 83,
   "metadata": {},
   "outputs": [
    {
     "data": {
      "text/html": [
       "<div>\n",
       "<style scoped>\n",
       "    .dataframe tbody tr th:only-of-type {\n",
       "        vertical-align: middle;\n",
       "    }\n",
       "\n",
       "    .dataframe tbody tr th {\n",
       "        vertical-align: top;\n",
       "    }\n",
       "\n",
       "    .dataframe thead th {\n",
       "        text-align: right;\n",
       "    }\n",
       "</style>\n",
       "<table border=\"1\" class=\"dataframe\">\n",
       "  <thead>\n",
       "    <tr style=\"text-align: right;\">\n",
       "      <th></th>\n",
       "      <th>Region</th>\n",
       "      <th>Total Volume</th>\n",
       "      <th>Total Boxes</th>\n",
       "      <th>Small Boxes</th>\n",
       "      <th>Large Boxes</th>\n",
       "      <th>XLarge Boxes</th>\n",
       "      <th>Price</th>\n",
       "    </tr>\n",
       "  </thead>\n",
       "  <tbody>\n",
       "    <tr>\n",
       "      <th>Region</th>\n",
       "      <td>1.00</td>\n",
       "      <td>-0.16</td>\n",
       "      <td>-0.17</td>\n",
       "      <td>-0.15</td>\n",
       "      <td>-0.19</td>\n",
       "      <td>-0.14</td>\n",
       "      <td>-0.02</td>\n",
       "    </tr>\n",
       "    <tr>\n",
       "      <th>Total Volume</th>\n",
       "      <td>-0.16</td>\n",
       "      <td>1.00</td>\n",
       "      <td>0.99</td>\n",
       "      <td>0.98</td>\n",
       "      <td>0.87</td>\n",
       "      <td>0.50</td>\n",
       "      <td>-0.01</td>\n",
       "    </tr>\n",
       "    <tr>\n",
       "      <th>Total Boxes</th>\n",
       "      <td>-0.17</td>\n",
       "      <td>0.99</td>\n",
       "      <td>1.00</td>\n",
       "      <td>0.99</td>\n",
       "      <td>0.89</td>\n",
       "      <td>0.52</td>\n",
       "      <td>-0.01</td>\n",
       "    </tr>\n",
       "    <tr>\n",
       "      <th>Small Boxes</th>\n",
       "      <td>-0.15</td>\n",
       "      <td>0.98</td>\n",
       "      <td>0.99</td>\n",
       "      <td>1.00</td>\n",
       "      <td>0.84</td>\n",
       "      <td>0.45</td>\n",
       "      <td>-0.01</td>\n",
       "    </tr>\n",
       "    <tr>\n",
       "      <th>Large Boxes</th>\n",
       "      <td>-0.19</td>\n",
       "      <td>0.87</td>\n",
       "      <td>0.89</td>\n",
       "      <td>0.84</td>\n",
       "      <td>1.00</td>\n",
       "      <td>0.73</td>\n",
       "      <td>-0.01</td>\n",
       "    </tr>\n",
       "    <tr>\n",
       "      <th>XLarge Boxes</th>\n",
       "      <td>-0.14</td>\n",
       "      <td>0.50</td>\n",
       "      <td>0.52</td>\n",
       "      <td>0.45</td>\n",
       "      <td>0.73</td>\n",
       "      <td>1.00</td>\n",
       "      <td>-0.01</td>\n",
       "    </tr>\n",
       "    <tr>\n",
       "      <th>Price</th>\n",
       "      <td>-0.02</td>\n",
       "      <td>-0.01</td>\n",
       "      <td>-0.01</td>\n",
       "      <td>-0.01</td>\n",
       "      <td>-0.01</td>\n",
       "      <td>-0.01</td>\n",
       "      <td>1.00</td>\n",
       "    </tr>\n",
       "  </tbody>\n",
       "</table>\n",
       "</div>"
      ],
      "text/plain": [
       "              Region  Total Volume  Total Boxes  Small Boxes  Large Boxes  \\\n",
       "Region          1.00         -0.16        -0.17        -0.15        -0.19   \n",
       "Total Volume   -0.16          1.00         0.99         0.98         0.87   \n",
       "Total Boxes    -0.17          0.99         1.00         0.99         0.89   \n",
       "Small Boxes    -0.15          0.98         0.99         1.00         0.84   \n",
       "Large Boxes    -0.19          0.87         0.89         0.84         1.00   \n",
       "XLarge Boxes   -0.14          0.50         0.52         0.45         0.73   \n",
       "Price          -0.02         -0.01        -0.01        -0.01        -0.01   \n",
       "\n",
       "              XLarge Boxes  Price  \n",
       "Region               -0.14  -0.02  \n",
       "Total Volume          0.50  -0.01  \n",
       "Total Boxes           0.52  -0.01  \n",
       "Small Boxes           0.45  -0.01  \n",
       "Large Boxes           0.73  -0.01  \n",
       "XLarge Boxes          1.00  -0.01  \n",
       "Price                -0.01   1.00  "
      ]
     },
     "execution_count": 83,
     "metadata": {},
     "output_type": "execute_result"
    }
   ],
   "source": [
    "correlation = data.corr()\n",
    "\n",
    "round(correlation, 2)"
   ]
  },
  {
   "cell_type": "code",
   "execution_count": 84,
   "metadata": {},
   "outputs": [
    {
     "data": {
      "image/png": "[encoded data removed]",
      "text/plain": [
       "<Figure size 432x288 with 2 Axes>"
      ]
     },
     "metadata": {
      "needs_background": "light"
     },
     "output_type": "display_data"
    }
   ],
   "source": [
    "sb.heatmap(data.corr())\n",
    "plt.show()"
   ]
  },
  {
   "cell_type": "markdown",
   "metadata": {},
   "source": [
    "### As we have date as a feature, we need to convert them into numerical value. We can do that by using datetime packages."
   ]
  },
  {
   "cell_type": "code",
   "execution_count": 85,
   "metadata": {},
   "outputs": [
    {
     "name": "stderr",
     "output_type": "stream",
     "text": [
      "<ipython-input-85-ce10b77a80f6>:1: SettingWithCopyWarning: \n",
      "A value is trying to be set on a copy of a slice from a DataFrame.\n",
      "Try using .loc[row_indexer,col_indexer] = value instead\n",
      "\n",
      "See the caveats in the documentation: http://pandas.pydata.org/pandas-docs/stable/user_guide/indexing.html#returning-a-view-versus-a-copy\n",
      "  data['Date']=data['Date'].map(dt.datetime.toordinal)\n"
     ]
    }
   ],
   "source": [
    "data['Date']=data['Date'].map(dt.datetime.toordinal)"
   ]
  },
  {
   "cell_type": "code",
   "execution_count": 86,
   "metadata": {},
   "outputs": [
    {
     "data": {
      "text/html": [
       "<div>\n",
       "<style scoped>\n",
       "    .dataframe tbody tr th:only-of-type {\n",
       "        vertical-align: middle;\n",
       "    }\n",
       "\n",
       "    .dataframe tbody tr th {\n",
       "        vertical-align: top;\n",
       "    }\n",
       "\n",
       "    .dataframe thead th {\n",
       "        text-align: right;\n",
       "    }\n",
       "</style>\n",
       "<table border=\"1\" class=\"dataframe\">\n",
       "  <thead>\n",
       "    <tr style=\"text-align: right;\">\n",
       "      <th></th>\n",
       "      <th>Date</th>\n",
       "      <th>Region</th>\n",
       "      <th>Total Volume</th>\n",
       "      <th>Total Boxes</th>\n",
       "      <th>Small Boxes</th>\n",
       "      <th>Large Boxes</th>\n",
       "      <th>XLarge Boxes</th>\n",
       "      <th>Price</th>\n",
       "    </tr>\n",
       "  </thead>\n",
       "  <tbody>\n",
       "    <tr>\n",
       "      <th>0</th>\n",
       "      <td>736778</td>\n",
       "      <td>29</td>\n",
       "      <td>2321.82</td>\n",
       "      <td>2006.46</td>\n",
       "      <td>1996.46</td>\n",
       "      <td>10.00</td>\n",
       "      <td>0.0</td>\n",
       "      <td>1.71</td>\n",
       "    </tr>\n",
       "    <tr>\n",
       "      <th>1</th>\n",
       "      <td>736771</td>\n",
       "      <td>29</td>\n",
       "      <td>3154.45</td>\n",
       "      <td>2580.60</td>\n",
       "      <td>2577.27</td>\n",
       "      <td>3.33</td>\n",
       "      <td>0.0</td>\n",
       "      <td>1.66</td>\n",
       "    </tr>\n",
       "    <tr>\n",
       "      <th>2</th>\n",
       "      <td>736764</td>\n",
       "      <td>29</td>\n",
       "      <td>2570.52</td>\n",
       "      <td>2209.29</td>\n",
       "      <td>2209.29</td>\n",
       "      <td>0.00</td>\n",
       "      <td>0.0</td>\n",
       "      <td>1.68</td>\n",
       "    </tr>\n",
       "    <tr>\n",
       "      <th>3</th>\n",
       "      <td>736757</td>\n",
       "      <td>29</td>\n",
       "      <td>3851.30</td>\n",
       "      <td>3242.98</td>\n",
       "      <td>3239.65</td>\n",
       "      <td>3.33</td>\n",
       "      <td>0.0</td>\n",
       "      <td>1.48</td>\n",
       "    </tr>\n",
       "    <tr>\n",
       "      <th>4</th>\n",
       "      <td>736750</td>\n",
       "      <td>29</td>\n",
       "      <td>5356.63</td>\n",
       "      <td>4007.48</td>\n",
       "      <td>4007.48</td>\n",
       "      <td>0.00</td>\n",
       "      <td>0.0</td>\n",
       "      <td>1.56</td>\n",
       "    </tr>\n",
       "  </tbody>\n",
       "</table>\n",
       "</div>"
      ],
      "text/plain": [
       "     Date  Region  Total Volume  Total Boxes  Small Boxes  Large Boxes  \\\n",
       "0  736778      29       2321.82      2006.46      1996.46        10.00   \n",
       "1  736771      29       3154.45      2580.60      2577.27         3.33   \n",
       "2  736764      29       2570.52      2209.29      2209.29         0.00   \n",
       "3  736757      29       3851.30      3242.98      3239.65         3.33   \n",
       "4  736750      29       5356.63      4007.48      4007.48         0.00   \n",
       "\n",
       "   XLarge Boxes  Price  \n",
       "0           0.0   1.71  \n",
       "1           0.0   1.66  \n",
       "2           0.0   1.68  \n",
       "3           0.0   1.48  \n",
       "4           0.0   1.56  "
      ]
     },
     "execution_count": 86,
     "metadata": {},
     "output_type": "execute_result"
    }
   ],
   "source": [
    "data.head()"
   ]
  },
  {
   "cell_type": "code",
   "execution_count": 87,
   "metadata": {},
   "outputs": [
    {
     "data": {
      "image/png": "[encoded data removed]",
      "text/plain": [
       "<Figure size 432x288 with 2 Axes>"
      ]
     },
     "metadata": {
      "needs_background": "light"
     },
     "output_type": "display_data"
    }
   ],
   "source": [
    "sb.heatmap(data.corr())\n",
    "plt.show()"
   ]
  },
  {
   "cell_type": "markdown",
   "metadata": {},
   "source": [
    "### Comment\n",
    "\n",
    "Now, it should be a classic regression problem where `Y` is `Price` and rest of the features are `X`.\n",
    "\n",
    "Try to use XgBoost or simmilar types of ML algorithm because with limited data, these algorithm are proved to work well, try to avoid NN as we can not use data augmentation with ease.\n",
    "\n",
    "XgBoost for regression, see this reference: https://machinelearningmastery.com/xgboost-for-regression/\n",
    "\n",
    "N.B: I am not sure what other things to add as part of the analysis, clearly there is not much relation among most of the features!"
   ]
  },
  {
   "cell_type": "code",
   "execution_count": 208,
   "metadata": {},
   "outputs": [],
   "source": [
    "# evaluate an xgboost regression model on the kimchi dataset\n",
    "from numpy import absolute\n",
    "from sklearn.model_selection import cross_val_score\n",
    "from sklearn.model_selection import RepeatedKFold\n",
    "from xgboost import XGBRegressor\n",
    "# load the dataset\n",
    "N_data = data.values"
   ]
  },
  {
   "cell_type": "code",
   "execution_count": 209,
   "metadata": {},
   "outputs": [
    {
     "data": {
      "text/plain": [
       "array([[7.367780e+05, 2.900000e+01, 2.321820e+03, ..., 1.000000e+01,\n",
       "        0.000000e+00, 1.710000e+00],\n",
       "       [7.367710e+05, 2.900000e+01, 3.154450e+03, ..., 3.330000e+00,\n",
       "        0.000000e+00, 1.660000e+00],\n",
       "       [7.367640e+05, 2.900000e+01, 2.570520e+03, ..., 0.000000e+00,\n",
       "        0.000000e+00, 1.680000e+00],\n",
       "       ...,\n",
       "       [7.367150e+05, 3.000000e+00, 1.376676e+04, ..., 4.231000e+01,\n",
       "        0.000000e+00, 1.870000e+00],\n",
       "       [7.367080e+05, 3.000000e+00, 1.620522e+04, ..., 5.000000e+01,\n",
       "        0.000000e+00, 1.930000e+00],\n",
       "       [7.367010e+05, 3.000000e+00, 1.748958e+04, ..., 2.601000e+01,\n",
       "        0.000000e+00, 1.620000e+00]])"
      ]
     },
     "execution_count": 209,
     "metadata": {},
     "output_type": "execute_result"
    }
   ],
   "source": [
    "N_data"
   ]
  },
  {
   "cell_type": "code",
   "execution_count": 210,
   "metadata": {},
   "outputs": [],
   "source": [
    "# split data into input and output columns\n",
    "X, y = N_data[:, :-1], N_data[:, -1]\n",
    "# define model\n",
    "model = XGBRegressor()"
   ]
  },
  {
   "cell_type": "code",
   "execution_count": null,
   "metadata": {},
   "outputs": [],
   "source": [
    "# define model evaluation method\n",
    "cv = RepeatedKFold(n_splits=10, n_repeats=3, random_state=1)\n",
    "# evaluate model\n",
    "scores = cross_val_score(model, X, y, scoring='neg_mean_absolute_error', cv=cv, n_jobs=-1)\n",
    "# force scores to be positive\n",
    "scores = absolute(scores)\n",
    "print('Mean MAE: %.3f (%.3f)' % (scores.mean(), scores.std()) )"
   ]
  },
  {
   "cell_type": "code",
   "execution_count": 90,
   "metadata": {},
   "outputs": [
    {
     "name": "stdout",
     "output_type": "stream",
     "text": [
      "Predicted: 1.65\n"
     ]
    }
   ],
   "source": [
    "from numpy import asarray\n",
    "\n",
    "# fit model\n",
    "model.fit(X, y)\n",
    "# define new data\n",
    "row = [736771, 29, 3154.45, 2580.60, 2577.27, 3.33, 0.0]\n",
    "new_data = asarray([row])\n",
    "# make a prediction\n",
    "yhat = model.predict(new_data)\n",
    "# summarize prediction\n",
    "print('Predicted: %.2f' % yhat)"
   ]
  },
  {
   "cell_type": "code",
   "execution_count": 240,
   "metadata": {},
   "outputs": [],
   "source": [
    "X = data [['Date', 'Region', 'Total Volume', 'Total Boxes', 'Small Boxes',\n",
    "       'Large Boxes', 'XLarge Boxes']]\n",
    "y = data ['Price']"
   ]
  },
  {
   "cell_type": "code",
   "execution_count": 241,
   "metadata": {},
   "outputs": [],
   "source": [
    "from sklearn.model_selection import train_test_split"
   ]
  },
  {
   "cell_type": "code",
   "execution_count": 242,
   "metadata": {},
   "outputs": [],
   "source": [
    "X_train, X_test, y_train, y_test = train_test_split(X, y, test_size=0.33, random_state=42)"
   ]
  },
  {
   "cell_type": "code",
   "execution_count": 243,
   "metadata": {},
   "outputs": [
    {
     "data": {
      "text/html": [
       "<div>\n",
       "<style scoped>\n",
       "    .dataframe tbody tr th:only-of-type {\n",
       "        vertical-align: middle;\n",
       "    }\n",
       "\n",
       "    .dataframe tbody tr th {\n",
       "        vertical-align: top;\n",
       "    }\n",
       "\n",
       "    .dataframe thead th {\n",
       "        text-align: right;\n",
       "    }\n",
       "</style>\n",
       "<table border=\"1\" class=\"dataframe\">\n",
       "  <thead>\n",
       "    <tr style=\"text-align: right;\">\n",
       "      <th></th>\n",
       "      <th>Date</th>\n",
       "      <th>Region</th>\n",
       "      <th>Total Volume</th>\n",
       "      <th>Total Boxes</th>\n",
       "      <th>Small Boxes</th>\n",
       "      <th>Large Boxes</th>\n",
       "      <th>XLarge Boxes</th>\n",
       "    </tr>\n",
       "  </thead>\n",
       "  <tbody>\n",
       "    <tr>\n",
       "      <th>185</th>\n",
       "      <td>736743</td>\n",
       "      <td>3</td>\n",
       "      <td>157146.89</td>\n",
       "      <td>108112.62</td>\n",
       "      <td>98871.98</td>\n",
       "      <td>9240.64</td>\n",
       "      <td>0.00</td>\n",
       "    </tr>\n",
       "    <tr>\n",
       "      <th>521</th>\n",
       "      <td>736743</td>\n",
       "      <td>17</td>\n",
       "      <td>40425.93</td>\n",
       "      <td>26505.86</td>\n",
       "      <td>11523.90</td>\n",
       "      <td>14950.62</td>\n",
       "      <td>31.34</td>\n",
       "    </tr>\n",
       "    <tr>\n",
       "      <th>179</th>\n",
       "      <td>736701</td>\n",
       "      <td>2</td>\n",
       "      <td>11449.30</td>\n",
       "      <td>8423.53</td>\n",
       "      <td>8423.53</td>\n",
       "      <td>0.00</td>\n",
       "      <td>0.00</td>\n",
       "    </tr>\n",
       "    <tr>\n",
       "      <th>261</th>\n",
       "      <td>736715</td>\n",
       "      <td>13</td>\n",
       "      <td>7491.53</td>\n",
       "      <td>5115.15</td>\n",
       "      <td>5115.15</td>\n",
       "      <td>0.00</td>\n",
       "      <td>0.00</td>\n",
       "    </tr>\n",
       "    <tr>\n",
       "      <th>154</th>\n",
       "      <td>736708</td>\n",
       "      <td>26</td>\n",
       "      <td>36501.82</td>\n",
       "      <td>27213.19</td>\n",
       "      <td>25789.59</td>\n",
       "      <td>1423.60</td>\n",
       "      <td>0.00</td>\n",
       "    </tr>\n",
       "    <tr>\n",
       "      <th>...</th>\n",
       "      <td>...</td>\n",
       "      <td>...</td>\n",
       "      <td>...</td>\n",
       "      <td>...</td>\n",
       "      <td>...</td>\n",
       "      <td>...</td>\n",
       "      <td>...</td>\n",
       "    </tr>\n",
       "    <tr>\n",
       "      <th>72</th>\n",
       "      <td>736778</td>\n",
       "      <td>4</td>\n",
       "      <td>190257.38</td>\n",
       "      <td>89631.19</td>\n",
       "      <td>89424.11</td>\n",
       "      <td>207.08</td>\n",
       "      <td>0.00</td>\n",
       "    </tr>\n",
       "    <tr>\n",
       "      <th>107</th>\n",
       "      <td>736701</td>\n",
       "      <td>6</td>\n",
       "      <td>41573.25</td>\n",
       "      <td>11854.05</td>\n",
       "      <td>11850.72</td>\n",
       "      <td>3.33</td>\n",
       "      <td>0.00</td>\n",
       "    </tr>\n",
       "    <tr>\n",
       "      <th>272</th>\n",
       "      <td>736722</td>\n",
       "      <td>18</td>\n",
       "      <td>97026.15</td>\n",
       "      <td>60603.68</td>\n",
       "      <td>60596.54</td>\n",
       "      <td>7.14</td>\n",
       "      <td>0.00</td>\n",
       "    </tr>\n",
       "    <tr>\n",
       "      <th>437</th>\n",
       "      <td>736743</td>\n",
       "      <td>34</td>\n",
       "      <td>20608.98</td>\n",
       "      <td>13690.38</td>\n",
       "      <td>3448.31</td>\n",
       "      <td>10232.51</td>\n",
       "      <td>9.56</td>\n",
       "    </tr>\n",
       "    <tr>\n",
       "      <th>103</th>\n",
       "      <td>736729</td>\n",
       "      <td>6</td>\n",
       "      <td>46956.84</td>\n",
       "      <td>13975.30</td>\n",
       "      <td>13975.30</td>\n",
       "      <td>0.00</td>\n",
       "      <td>0.00</td>\n",
       "    </tr>\n",
       "  </tbody>\n",
       "</table>\n",
       "<p>431 rows × 7 columns</p>\n",
       "</div>"
      ],
      "text/plain": [
       "       Date  Region  Total Volume  Total Boxes  Small Boxes  Large Boxes  \\\n",
       "185  736743       3     157146.89    108112.62     98871.98      9240.64   \n",
       "521  736743      17      40425.93     26505.86     11523.90     14950.62   \n",
       "179  736701       2      11449.30      8423.53      8423.53         0.00   \n",
       "261  736715      13       7491.53      5115.15      5115.15         0.00   \n",
       "154  736708      26      36501.82     27213.19     25789.59      1423.60   \n",
       "..      ...     ...           ...          ...          ...          ...   \n",
       "72   736778       4     190257.38     89631.19     89424.11       207.08   \n",
       "107  736701       6      41573.25     11854.05     11850.72         3.33   \n",
       "272  736722      18      97026.15     60603.68     60596.54         7.14   \n",
       "437  736743      34      20608.98     13690.38      3448.31     10232.51   \n",
       "103  736729       6      46956.84     13975.30     13975.30         0.00   \n",
       "\n",
       "     XLarge Boxes  \n",
       "185          0.00  \n",
       "521         31.34  \n",
       "179          0.00  \n",
       "261          0.00  \n",
       "154          0.00  \n",
       "..            ...  \n",
       "72           0.00  \n",
       "107          0.00  \n",
       "272          0.00  \n",
       "437          9.56  \n",
       "103          0.00  \n",
       "\n",
       "[431 rows x 7 columns]"
      ]
     },
     "execution_count": 243,
     "metadata": {},
     "output_type": "execute_result"
    }
   ],
   "source": [
    "X_train"
   ]
  },
  {
   "cell_type": "code",
   "execution_count": 244,
   "metadata": {},
   "outputs": [
    {
     "data": {
      "text/plain": [
       "(431,)"
      ]
     },
     "execution_count": 244,
     "metadata": {},
     "output_type": "execute_result"
    }
   ],
   "source": [
    "y_train.shape"
   ]
  },
  {
   "cell_type": "code",
   "execution_count": 245,
   "metadata": {},
   "outputs": [
    {
     "data": {
      "text/html": [
       "<div>\n",
       "<style scoped>\n",
       "    .dataframe tbody tr th:only-of-type {\n",
       "        vertical-align: middle;\n",
       "    }\n",
       "\n",
       "    .dataframe tbody tr th {\n",
       "        vertical-align: top;\n",
       "    }\n",
       "\n",
       "    .dataframe thead th {\n",
       "        text-align: right;\n",
       "    }\n",
       "</style>\n",
       "<table border=\"1\" class=\"dataframe\">\n",
       "  <thead>\n",
       "    <tr style=\"text-align: right;\">\n",
       "      <th></th>\n",
       "      <th>Date</th>\n",
       "      <th>Region</th>\n",
       "      <th>Total Volume</th>\n",
       "      <th>Total Boxes</th>\n",
       "      <th>Small Boxes</th>\n",
       "      <th>Large Boxes</th>\n",
       "      <th>XLarge Boxes</th>\n",
       "    </tr>\n",
       "  </thead>\n",
       "  <tbody>\n",
       "    <tr>\n",
       "      <th>634</th>\n",
       "      <td>736708</td>\n",
       "      <td>5</td>\n",
       "      <td>207999.67</td>\n",
       "      <td>126261.89</td>\n",
       "      <td>89115.78</td>\n",
       "      <td>37133.99</td>\n",
       "      <td>12.12</td>\n",
       "    </tr>\n",
       "    <tr>\n",
       "      <th>595</th>\n",
       "      <td>736729</td>\n",
       "      <td>19</td>\n",
       "      <td>6294.16</td>\n",
       "      <td>6056.85</td>\n",
       "      <td>2847.48</td>\n",
       "      <td>3209.37</td>\n",
       "      <td>0.00</td>\n",
       "    </tr>\n",
       "    <tr>\n",
       "      <th>602</th>\n",
       "      <td>736764</td>\n",
       "      <td>19</td>\n",
       "      <td>8115.07</td>\n",
       "      <td>7621.55</td>\n",
       "      <td>7494.08</td>\n",
       "      <td>127.47</td>\n",
       "      <td>0.00</td>\n",
       "    </tr>\n",
       "    <tr>\n",
       "      <th>293</th>\n",
       "      <td>736743</td>\n",
       "      <td>32</td>\n",
       "      <td>9673.24</td>\n",
       "      <td>8762.49</td>\n",
       "      <td>7794.44</td>\n",
       "      <td>968.05</td>\n",
       "      <td>0.00</td>\n",
       "    </tr>\n",
       "    <tr>\n",
       "      <th>73</th>\n",
       "      <td>736771</td>\n",
       "      <td>4</td>\n",
       "      <td>202790.74</td>\n",
       "      <td>102870.50</td>\n",
       "      <td>102717.50</td>\n",
       "      <td>153.00</td>\n",
       "      <td>0.00</td>\n",
       "    </tr>\n",
       "    <tr>\n",
       "      <th>...</th>\n",
       "      <td>...</td>\n",
       "      <td>...</td>\n",
       "      <td>...</td>\n",
       "      <td>...</td>\n",
       "      <td>...</td>\n",
       "      <td>...</td>\n",
       "      <td>...</td>\n",
       "    </tr>\n",
       "    <tr>\n",
       "      <th>94</th>\n",
       "      <td>736708</td>\n",
       "      <td>4</td>\n",
       "      <td>19522.15</td>\n",
       "      <td>12129.51</td>\n",
       "      <td>12116.18</td>\n",
       "      <td>13.33</td>\n",
       "      <td>0.00</td>\n",
       "    </tr>\n",
       "    <tr>\n",
       "      <th>262</th>\n",
       "      <td>736708</td>\n",
       "      <td>13</td>\n",
       "      <td>9883.94</td>\n",
       "      <td>6186.81</td>\n",
       "      <td>6180.41</td>\n",
       "      <td>6.40</td>\n",
       "      <td>0.00</td>\n",
       "    </tr>\n",
       "    <tr>\n",
       "      <th>416</th>\n",
       "      <td>736722</td>\n",
       "      <td>25</td>\n",
       "      <td>13137.18</td>\n",
       "      <td>11867.69</td>\n",
       "      <td>11867.69</td>\n",
       "      <td>0.00</td>\n",
       "      <td>0.00</td>\n",
       "    </tr>\n",
       "    <tr>\n",
       "      <th>590</th>\n",
       "      <td>736764</td>\n",
       "      <td>19</td>\n",
       "      <td>4685.01</td>\n",
       "      <td>4455.05</td>\n",
       "      <td>775.90</td>\n",
       "      <td>3679.15</td>\n",
       "      <td>0.00</td>\n",
       "    </tr>\n",
       "    <tr>\n",
       "      <th>28</th>\n",
       "      <td>736750</td>\n",
       "      <td>21</td>\n",
       "      <td>47421.15</td>\n",
       "      <td>37832.13</td>\n",
       "      <td>37822.13</td>\n",
       "      <td>10.00</td>\n",
       "      <td>0.00</td>\n",
       "    </tr>\n",
       "  </tbody>\n",
       "</table>\n",
       "<p>213 rows × 7 columns</p>\n",
       "</div>"
      ],
      "text/plain": [
       "       Date  Region  Total Volume  Total Boxes  Small Boxes  Large Boxes  \\\n",
       "634  736708       5     207999.67    126261.89     89115.78     37133.99   \n",
       "595  736729      19       6294.16      6056.85      2847.48      3209.37   \n",
       "602  736764      19       8115.07      7621.55      7494.08       127.47   \n",
       "293  736743      32       9673.24      8762.49      7794.44       968.05   \n",
       "73   736771       4     202790.74    102870.50    102717.50       153.00   \n",
       "..      ...     ...           ...          ...          ...          ...   \n",
       "94   736708       4      19522.15     12129.51     12116.18        13.33   \n",
       "262  736708      13       9883.94      6186.81      6180.41         6.40   \n",
       "416  736722      25      13137.18     11867.69     11867.69         0.00   \n",
       "590  736764      19       4685.01      4455.05       775.90      3679.15   \n",
       "28   736750      21      47421.15     37832.13     37822.13        10.00   \n",
       "\n",
       "     XLarge Boxes  \n",
       "634         12.12  \n",
       "595          0.00  \n",
       "602          0.00  \n",
       "293          0.00  \n",
       "73           0.00  \n",
       "..            ...  \n",
       "94           0.00  \n",
       "262          0.00  \n",
       "416          0.00  \n",
       "590          0.00  \n",
       "28           0.00  \n",
       "\n",
       "[213 rows x 7 columns]"
      ]
     },
     "execution_count": 245,
     "metadata": {},
     "output_type": "execute_result"
    }
   ],
   "source": [
    "X_test"
   ]
  },
  {
   "cell_type": "code",
   "execution_count": 246,
   "metadata": {},
   "outputs": [
    {
     "data": {
      "text/plain": [
       "634    1.82\n",
       "595    1.22\n",
       "602    1.31\n",
       "293    1.52\n",
       "73     1.75\n",
       "       ... \n",
       "94     1.45\n",
       "262    1.98\n",
       "416    1.38\n",
       "590    1.25\n",
       "28     1.47\n",
       "Name: Price, Length: 213, dtype: float64"
      ]
     },
     "execution_count": 246,
     "metadata": {},
     "output_type": "execute_result"
    }
   ],
   "source": [
    "y_test"
   ]
  },
  {
   "cell_type": "code",
   "execution_count": 247,
   "metadata": {},
   "outputs": [],
   "source": [
    "from xgboost import XGBRegressor"
   ]
  },
  {
   "cell_type": "code",
   "execution_count": 248,
   "metadata": {},
   "outputs": [],
   "source": [
    "# define modely_test\n",
    "model = XGBRegressor()"
   ]
  },
  {
   "cell_type": "code",
   "execution_count": 249,
   "metadata": {},
   "outputs": [
    {
     "data": {
      "text/plain": [
       "XGBRegressor(base_score=0.5, booster='gbtree', colsample_bylevel=1,\n",
       "             colsample_bynode=1, colsample_bytree=1, enable_categorical=False,\n",
       "             gamma=0, gpu_id=-1, importance_type=None,\n",
       "             interaction_constraints='', learning_rate=0.300000012,\n",
       "             max_delta_step=0, max_depth=6, min_child_weight=1, missing=nan,\n",
       "             monotone_constraints='()', n_estimators=100, n_jobs=16,\n",
       "             num_parallel_tree=1, objective='reg:squarederror',\n",
       "             predictor='auto', random_state=0, reg_alpha=0, reg_lambda=1,\n",
       "             scale_pos_weight=1, subsample=1, tree_method='exact',\n",
       "             validate_parameters=1, verbosity=None)"
      ]
     },
     "execution_count": 249,
     "metadata": {},
     "output_type": "execute_result"
    }
   ],
   "source": [
    "# fit model\n",
    "model.fit(X_train, y_train)"
   ]
  },
  {
   "cell_type": "code",
   "execution_count": 250,
   "metadata": {},
   "outputs": [
    {
     "name": "stdout",
     "output_type": "stream",
     "text": [
      "Predicted: 1.41\n"
     ]
    }
   ],
   "source": [
    "from numpy import asarray\n",
    "\n",
    "# define new data\n",
    "row = [736750,9,25590.99, 19800.99, 19544.33, 256.66, 0.00]\n",
    "new_data = asarray([row])\n",
    "# make a prediction\n",
    "yhat = model.predict(new_data)\n",
    "# summarize prediction\n",
    "print('Predicted: %.2f' % yhat)"
   ]
  },
  {
   "cell_type": "code",
   "execution_count": 251,
   "metadata": {},
   "outputs": [],
   "source": [
    "predictions = model.predict(X_test)"
   ]
  },
  {
   "cell_type": "code",
   "execution_count": 252,
   "metadata": {},
   "outputs": [],
   "source": [
    "accuracy = model.score(X_test, y_test)"
   ]
  },
  {
   "cell_type": "code",
   "execution_count": 253,
   "metadata": {},
   "outputs": [
    {
     "name": "stdout",
     "output_type": "stream",
     "text": [
      "0.6517603760892348\n"
     ]
    }
   ],
   "source": [
    "print(accuracy)"
   ]
  },
  {
   "cell_type": "code",
   "execution_count": 224,
   "metadata": {},
   "outputs": [
    {
     "data": {
      "text/plain": [
       "<matplotlib.collections.PathCollection at 0x7fe09d00a250>"
      ]
     },
     "execution_count": 224,
     "metadata": {},
     "output_type": "execute_result"
    },
    {
     "data": {
      "image/png": "[encoded data removed]",
      "text/plain": [
       "<Figure size 432x288 with 1 Axes>"
      ]
     },
     "metadata": {
      "needs_background": "light"
     },
     "output_type": "display_data"
    }
   ],
   "source": [
    "plt.scatter(y_test, predictions)"
   ]
  },
  {
   "cell_type": "code",
   "execution_count": 225,
   "metadata": {},
   "outputs": [
    {
     "data": {
      "text/plain": [
       "<matplotlib.axes._subplots.AxesSubplot at 0x7fe09cf17340>"
      ]
     },
     "execution_count": 225,
     "metadata": {},
     "output_type": "execute_result"
    },
    {
     "data": {
      "image/png": "[encoded data removed]",
      "text/plain": [
       "<Figure size 432x288 with 1 Axes>"
      ]
     },
     "metadata": {
      "needs_background": "light"
     },
     "output_type": "display_data"
    }
   ],
   "source": [
    "sb.distplot((y_test-predictions), bins= 50)"
   ]
  },
  {
   "cell_type": "code",
   "execution_count": 165,
   "metadata": {},
   "outputs": [],
   "source": [
    "from xgboost import plot_importance"
   ]
  },
  {
   "cell_type": "code",
   "execution_count": 167,
   "metadata": {},
   "outputs": [
    {
     "name": "stdout",
     "output_type": "stream",
     "text": [
      "[9.4354048e-04 6.3024077e-04 3.3840888e-07 3.3284459e-07 9.9653667e-01\n",
      " 1.8886739e-03 1.9428546e-07]\n"
     ]
    }
   ],
   "source": [
    "print(model.feature_importances_)"
   ]
  },
  {
   "cell_type": "code",
   "execution_count": 197,
   "metadata": {},
   "outputs": [
    {
     "data": {
      "text/plain": [
       "[<matplotlib.lines.Line2D at 0x7fe09d549640>]"
      ]
     },
     "execution_count": 197,
     "metadata": {},
     "output_type": "execute_result"
    },
    {
     "data": {
      "image/png": "[encoded data removed]",
      "text/plain": [
       "<Figure size 432x288 with 1 Axes>"
      ]
     },
     "metadata": {
      "needs_background": "light"
     },
     "output_type": "display_data"
    }
   ],
   "source": [
    "plt.plot(model.feature_importances_)"
   ]
  },
  {
   "cell_type": "code",
   "execution_count": 168,
   "metadata": {},
   "outputs": [
    {
     "data": {
      "image/png": "[encoded data removed]",
      "text/plain": [
       "<Figure size 432x288 with 1 Axes>"
      ]
     },
     "metadata": {
      "needs_background": "light"
     },
     "output_type": "display_data"
    }
   ],
   "source": [
    "# plot feature importance\n",
    "plot_importance(model)\n",
    "plt.show()"
   ]
  },
  {
   "cell_type": "code",
   "execution_count": 198,
   "metadata": {},
   "outputs": [],
   "source": [
    "X_n = data ['Small Boxes']\n",
    "y_n = data ['Price']"
   ]
  },
  {
   "cell_type": "code",
   "execution_count": 199,
   "metadata": {},
   "outputs": [],
   "source": [
    "from sklearn.model_selection import train_test_split"
   ]
  },
  {
   "cell_type": "code",
   "execution_count": 200,
   "metadata": {},
   "outputs": [],
   "source": [
    "X_train_n, X_test_n, y_train_n, y_test_n = train_test_split(X_n, y_n, test_size=0.33, random_state=42)"
   ]
  },
  {
   "cell_type": "code",
   "execution_count": 201,
   "metadata": {},
   "outputs": [],
   "source": [
    "from xgboost import XGBRegressor"
   ]
  },
  {
   "cell_type": "code",
   "execution_count": 202,
   "metadata": {},
   "outputs": [],
   "source": [
    "# define modely_test\n",
    "model1 = XGBRegressor()"
   ]
  },
  {
   "cell_type": "code",
   "execution_count": 203,
   "metadata": {},
   "outputs": [
    {
     "data": {
      "text/plain": [
       "XGBRegressor(base_score=0.5, booster='gbtree', colsample_bylevel=1,\n",
       "             colsample_bynode=1, colsample_bytree=1, enable_categorical=False,\n",
       "             gamma=0, gpu_id=-1, importance_type=None,\n",
       "             interaction_constraints='', learning_rate=0.300000012,\n",
       "             max_delta_step=0, max_depth=6, min_child_weight=1, missing=nan,\n",
       "             monotone_constraints='()', n_estimators=100, n_jobs=16,\n",
       "             num_parallel_tree=1, objective='reg:squarederror',\n",
       "             predictor='auto', random_state=0, reg_alpha=0, reg_lambda=1,\n",
       "             scale_pos_weight=1, subsample=1, tree_method='exact',\n",
       "             validate_parameters=1, verbosity=None)"
      ]
     },
     "execution_count": 203,
     "metadata": {},
     "output_type": "execute_result"
    }
   ],
   "source": [
    "# fit model\n",
    "model1.fit(X_train_n, y_train_n)"
   ]
  },
  {
   "cell_type": "code",
   "execution_count": 205,
   "metadata": {},
   "outputs": [
    {
     "name": "stdout",
     "output_type": "stream",
     "text": [
      "Predicted: 1.42\n"
     ]
    }
   ],
   "source": [
    "from numpy import asarray\n",
    "\n",
    "# define new data\n",
    "row = [19544.33]\n",
    "new_data = asarray([row])\n",
    "# make a prediction\n",
    "yhat = model1.predict(new_data)\n",
    "# summarize prediction\n",
    "print('Predicted: %.2f' % yhat)"
   ]
  },
  {
   "cell_type": "code",
   "execution_count": 206,
   "metadata": {},
   "outputs": [],
   "source": [
    "accuracy_n = model1.score(X_test_n, y_test_n)"
   ]
  },
  {
   "cell_type": "code",
   "execution_count": 207,
   "metadata": {},
   "outputs": [
    {
     "name": "stdout",
     "output_type": "stream",
     "text": [
      "-0.6174784568861715\n"
     ]
    }
   ],
   "source": [
    "print(accuracy_n)"
   ]
  },
  {
   "cell_type": "code",
   "execution_count": null,
   "metadata": {},
   "outputs": [],
   "source": []
  },
  {
   "cell_type": "code",
   "execution_count": null,
   "metadata": {},
   "outputs": [],
   "source": []
  },
  {
   "cell_type": "code",
   "execution_count": null,
   "metadata": {},
   "outputs": [],
   "source": []
  },
  {
   "cell_type": "code",
   "execution_count": null,
   "metadata": {},
   "outputs": [],
   "source": []
  },
  {
   "cell_type": "code",
   "execution_count": 148,
   "metadata": {},
   "outputs": [],
   "source": [
    "# Liner Regression\n",
    "from sklearn.linear_model import LinearRegression\n",
    "\n",
    "model = LinearRegression()"
   ]
  },
  {
   "cell_type": "code",
   "execution_count": 149,
   "metadata": {},
   "outputs": [
    {
     "data": {
      "text/plain": [
       "LinearRegression(copy_X=True, fit_intercept=True, n_jobs=None, normalize=False)"
      ]
     },
     "execution_count": 149,
     "metadata": {},
     "output_type": "execute_result"
    }
   ],
   "source": [
    "# fit model\n",
    "model.fit(X_train, y_train)"
   ]
  },
  {
   "cell_type": "code",
   "execution_count": 138,
   "metadata": {},
   "outputs": [
    {
     "name": "stdout",
     "output_type": "stream",
     "text": [
      "Predicted: -5107094910858525696.00\n"
     ]
    }
   ],
   "source": [
    "from numpy import asarray\n",
    "\n",
    "# define new data\n",
    "row = [736750,9,25590.99, 19800.99, 19544.33, 256.66, 0.00]\n",
    "new_data = asarray([row])\n",
    "# make a prediction\n",
    "yhat = model.predict(new_data)\n",
    "# summarize prediction\n",
    "print('Predicted: %.2f' % yhat)"
   ]
  },
  {
   "cell_type": "code",
   "execution_count": 150,
   "metadata": {},
   "outputs": [],
   "source": [
    "predictions = model.predict(X_test)\n",
    "accuracy = model.score(X_test, y_test)"
   ]
  },
  {
   "cell_type": "code",
   "execution_count": 151,
   "metadata": {},
   "outputs": [
    {
     "data": {
      "text/plain": [
       "-4295.828557946749"
      ]
     },
     "execution_count": 151,
     "metadata": {},
     "output_type": "execute_result"
    }
   ],
   "source": [
    "accuracy"
   ]
  },
  {
   "cell_type": "code",
   "execution_count": 114,
   "metadata": {},
   "outputs": [
    {
     "name": "stdout",
     "output_type": "stream",
     "text": [
      "[1.6272805 1.3647928 1.4014075 1.4300768 1.6760718 1.6463995 1.4753637\n",
      " 1.5242143 1.5819685 1.2552004 1.5455763 1.4071535 1.3332081 1.6375477\n",
      " 1.5303309 1.5898126 1.490807  1.3600672 1.3031569 1.4253669 1.7275535\n",
      " 1.2845204 1.5206528 1.7682092 1.424136  1.5159652 1.4824748 1.6526028\n",
      " 1.7495114 1.5150228 1.8673462 1.8211617 1.6093929 1.587256  1.4285823\n",
      " 2.0482607 1.4669348 1.533408  1.8973755 1.7545813 1.6759827 1.4401017\n",
      " 1.6713281 1.7039287 1.2970445 1.7083108 1.57985   1.7650107 1.5024853\n",
      " 1.4146389 1.543781  1.7841281 1.379114  1.542421  1.334207  1.4979289\n",
      " 1.3625133 1.4592562 1.840538  1.6663623 1.6951919 1.7054434 1.5034963\n",
      " 1.5170015 1.2904667 1.70007   1.5987264 1.7344681 1.8521433 1.5426065\n",
      " 1.2346883 1.5402362 1.7472644 1.8038963 1.77706   1.798465  1.6094602\n",
      " 1.3522917 1.3686703 1.6997149 1.5489109 1.2287728 1.2863623 1.5441867\n",
      " 1.5866346 1.408463  1.8910934 1.3833431 1.5369878 1.5416515 1.5651234\n",
      " 1.4231393 1.8268942 1.4628237 1.8483989 1.7963663 1.6821991 1.3213731\n",
      " 1.3880688 1.8350146 1.5459918 1.3445959 1.3091146 1.2989262 1.4822738\n",
      " 1.7763101 1.4557898 1.6126802 1.6973977 1.6833957 1.2871324 1.2087501\n",
      " 1.6255902 1.3224504 1.5219105 1.3291779 1.4175203 1.3724059 1.4034736\n",
      " 1.5250994 1.6898643 1.533751  1.4921525 1.5998932 1.7190297 1.6461239\n",
      " 1.3006458 1.5365533 1.4427694 1.6321377 1.3528655 1.4769031 1.6463841\n",
      " 1.6526688 1.5002538 1.4896866 1.4611472 1.3968521 1.5652341 1.7890949\n",
      " 1.7567469 1.4955446 1.4861382 1.3757793 1.4213263 1.4137577 1.5862399\n",
      " 1.6283877 1.8318347 1.6919391 1.6429653 1.5773711 1.4892211 1.3749909\n",
      " 1.5396627 1.5908964 1.4576262 1.3951725 1.4459373 1.5153232 1.7075046\n",
      " 1.4497149 1.94061   1.8376467 1.8160847 1.6389439 1.5813113 1.4684005\n",
      " 1.3160303 1.5137864 1.735137  1.9171937 1.4441087 1.4467548 1.579346\n",
      " 1.4818727 1.6802303 1.5908487 1.7839208 1.4035    1.4645026 1.3701781\n",
      " 1.5388885 1.5902126 1.6696854 1.6990691 1.6415054 1.3611331 1.8626868\n",
      " 1.5008073 1.3546512 1.3854604 1.2659646 1.3736585 1.5160172 1.9983315\n",
      " 1.4278246 1.2980149 1.7162938 1.7039057 1.6593866 1.5054984 1.8590258\n",
      " 1.4605169 1.4908886 1.8861394 1.5236354 1.788198  1.5138433 1.6031746\n",
      " 1.3881841 1.3346711 1.4829861]\n"
     ]
    },
    {
     "data": {
      "text/plain": [
       "634    1.82\n",
       "595    1.22\n",
       "602    1.31\n",
       "293    1.52\n",
       "73     1.75\n",
       "       ... \n",
       "94     1.45\n",
       "262    1.98\n",
       "416    1.38\n",
       "590    1.25\n",
       "28     1.47\n",
       "Name: Price, Length: 213, dtype: float64"
      ]
     },
     "execution_count": 114,
     "metadata": {},
     "output_type": "execute_result"
    }
   ],
   "source": [
    "print(predictions)\n",
    "y_test"
   ]
  },
  {
   "cell_type": "code",
   "execution_count": 128,
   "metadata": {},
   "outputs": [],
   "source": [
    "from sklearn.metrics import mean_squared_error\n",
    "\n",
    "mse = mean_squared_error(y_test, predictions)"
   ]
  },
  {
   "cell_type": "code",
   "execution_count": 129,
   "metadata": {},
   "outputs": [],
   "source": [
    "import math\n",
    "\n",
    "rmse = math.sqrt(mse)"
   ]
  },
  {
   "cell_type": "code",
   "execution_count": 130,
   "metadata": {},
   "outputs": [
    {
     "data": {
      "text/plain": [
       "0.12950283023264997"
      ]
     },
     "execution_count": 130,
     "metadata": {},
     "output_type": "execute_result"
    }
   ],
   "source": [
    "rmse"
   ]
  },
  {
   "cell_type": "code",
   "execution_count": 131,
   "metadata": {},
   "outputs": [],
   "source": [
    "Accuracy = 1.96*rmse"
   ]
  },
  {
   "cell_type": "code",
   "execution_count": 132,
   "metadata": {},
   "outputs": [
    {
     "data": {
      "text/plain": [
       "0.25382554725599393"
      ]
     },
     "execution_count": 132,
     "metadata": {},
     "output_type": "execute_result"
    }
   ],
   "source": [
    "Accuracy"
   ]
  },
  {
   "cell_type": "code",
   "execution_count": null,
   "metadata": {},
   "outputs": [],
   "source": [
    "predictions = model.predict(X_test)"
   ]
  },
  {
   "cell_type": "code",
   "execution_count": 56,
   "metadata": {},
   "outputs": [
    {
     "ename": "ValueError",
     "evalue": "continuous is not supported",
     "output_type": "error",
     "traceback": [
      "\u001b[0;31m---------------------------------------------------------------------------\u001b[0m",
      "\u001b[0;31mValueError\u001b[0m                                Traceback (most recent call last)",
      "\u001b[0;32m<ipython-input-56-98fa5c304829>\u001b[0m in \u001b[0;36m<module>\u001b[0;34m\u001b[0m\n\u001b[1;32m      2\u001b[0m \u001b[0;32mfrom\u001b[0m \u001b[0msklearn\u001b[0m\u001b[0;34m.\u001b[0m\u001b[0mmetrics\u001b[0m \u001b[0;32mimport\u001b[0m \u001b[0mclassification_report\u001b[0m\u001b[0;34m,\u001b[0m \u001b[0mconfusion_matrix\u001b[0m\u001b[0;34m,\u001b[0m \u001b[0maccuracy_score\u001b[0m\u001b[0;34m\u001b[0m\u001b[0;34m\u001b[0m\u001b[0m\n\u001b[1;32m      3\u001b[0m \u001b[0;34m\u001b[0m\u001b[0m\n\u001b[0;32m----> 4\u001b[0;31m \u001b[0mprint\u001b[0m\u001b[0;34m(\u001b[0m\u001b[0mconfusion_matrix\u001b[0m\u001b[0;34m(\u001b[0m\u001b[0my_test\u001b[0m\u001b[0;34m,\u001b[0m\u001b[0mpredictions\u001b[0m\u001b[0;34m)\u001b[0m\u001b[0;34m)\u001b[0m\u001b[0;34m\u001b[0m\u001b[0;34m\u001b[0m\u001b[0m\n\u001b[0m\u001b[1;32m      5\u001b[0m \u001b[0mprint\u001b[0m\u001b[0;34m(\u001b[0m\u001b[0mclassification_report\u001b[0m\u001b[0;34m(\u001b[0m\u001b[0my_test\u001b[0m\u001b[0;34m,\u001b[0m\u001b[0mpredictions\u001b[0m\u001b[0;34m)\u001b[0m\u001b[0;34m)\u001b[0m\u001b[0;34m\u001b[0m\u001b[0;34m\u001b[0m\u001b[0m\n\u001b[1;32m      6\u001b[0m \u001b[0mprint\u001b[0m\u001b[0;34m(\u001b[0m\u001b[0maccuracy_score\u001b[0m\u001b[0;34m(\u001b[0m\u001b[0my_test\u001b[0m\u001b[0;34m,\u001b[0m \u001b[0mpredictions\u001b[0m\u001b[0;34m)\u001b[0m\u001b[0;34m)\u001b[0m\u001b[0;34m\u001b[0m\u001b[0;34m\u001b[0m\u001b[0m\n",
      "\u001b[0;32m/usr/lib/python3/dist-packages/sklearn/metrics/_classification.py\u001b[0m in \u001b[0;36mconfusion_matrix\u001b[0;34m(y_true, y_pred, labels, sample_weight, normalize)\u001b[0m\n\u001b[1;32m    266\u001b[0m \u001b[0;34m\u001b[0m\u001b[0m\n\u001b[1;32m    267\u001b[0m     \"\"\"\n\u001b[0;32m--> 268\u001b[0;31m     \u001b[0my_type\u001b[0m\u001b[0;34m,\u001b[0m \u001b[0my_true\u001b[0m\u001b[0;34m,\u001b[0m \u001b[0my_pred\u001b[0m \u001b[0;34m=\u001b[0m \u001b[0m_check_targets\u001b[0m\u001b[0;34m(\u001b[0m\u001b[0my_true\u001b[0m\u001b[0;34m,\u001b[0m \u001b[0my_pred\u001b[0m\u001b[0;34m)\u001b[0m\u001b[0;34m\u001b[0m\u001b[0;34m\u001b[0m\u001b[0m\n\u001b[0m\u001b[1;32m    269\u001b[0m     \u001b[0;32mif\u001b[0m \u001b[0my_type\u001b[0m \u001b[0;32mnot\u001b[0m \u001b[0;32min\u001b[0m \u001b[0;34m(\u001b[0m\u001b[0;34m\"binary\"\u001b[0m\u001b[0;34m,\u001b[0m \u001b[0;34m\"multiclass\"\u001b[0m\u001b[0;34m)\u001b[0m\u001b[0;34m:\u001b[0m\u001b[0;34m\u001b[0m\u001b[0;34m\u001b[0m\u001b[0m\n\u001b[1;32m    270\u001b[0m         \u001b[0;32mraise\u001b[0m \u001b[0mValueError\u001b[0m\u001b[0;34m(\u001b[0m\u001b[0;34m\"%s is not supported\"\u001b[0m \u001b[0;34m%\u001b[0m \u001b[0my_type\u001b[0m\u001b[0;34m)\u001b[0m\u001b[0;34m\u001b[0m\u001b[0;34m\u001b[0m\u001b[0m\n",
      "\u001b[0;32m/usr/lib/python3/dist-packages/sklearn/metrics/_classification.py\u001b[0m in \u001b[0;36m_check_targets\u001b[0;34m(y_true, y_pred)\u001b[0m\n\u001b[1;32m     95\u001b[0m     \u001b[0;31m# No metrics support \"multiclass-multioutput\" format\u001b[0m\u001b[0;34m\u001b[0m\u001b[0;34m\u001b[0m\u001b[0;34m\u001b[0m\u001b[0m\n\u001b[1;32m     96\u001b[0m     \u001b[0;32mif\u001b[0m \u001b[0;34m(\u001b[0m\u001b[0my_type\u001b[0m \u001b[0;32mnot\u001b[0m \u001b[0;32min\u001b[0m \u001b[0;34m[\u001b[0m\u001b[0;34m\"binary\"\u001b[0m\u001b[0;34m,\u001b[0m \u001b[0;34m\"multiclass\"\u001b[0m\u001b[0;34m,\u001b[0m \u001b[0;34m\"multilabel-indicator\"\u001b[0m\u001b[0;34m]\u001b[0m\u001b[0;34m)\u001b[0m\u001b[0;34m:\u001b[0m\u001b[0;34m\u001b[0m\u001b[0;34m\u001b[0m\u001b[0m\n\u001b[0;32m---> 97\u001b[0;31m         \u001b[0;32mraise\u001b[0m \u001b[0mValueError\u001b[0m\u001b[0;34m(\u001b[0m\u001b[0;34m\"{0} is not supported\"\u001b[0m\u001b[0;34m.\u001b[0m\u001b[0mformat\u001b[0m\u001b[0;34m(\u001b[0m\u001b[0my_type\u001b[0m\u001b[0;34m)\u001b[0m\u001b[0;34m)\u001b[0m\u001b[0;34m\u001b[0m\u001b[0;34m\u001b[0m\u001b[0m\n\u001b[0m\u001b[1;32m     98\u001b[0m \u001b[0;34m\u001b[0m\u001b[0m\n\u001b[1;32m     99\u001b[0m     \u001b[0;32mif\u001b[0m \u001b[0my_type\u001b[0m \u001b[0;32min\u001b[0m \u001b[0;34m[\u001b[0m\u001b[0;34m\"binary\"\u001b[0m\u001b[0;34m,\u001b[0m \u001b[0;34m\"multiclass\"\u001b[0m\u001b[0;34m]\u001b[0m\u001b[0;34m:\u001b[0m\u001b[0;34m\u001b[0m\u001b[0;34m\u001b[0m\u001b[0m\n",
      "\u001b[0;31mValueError\u001b[0m: continuous is not supported"
     ]
    }
   ],
   "source": [
    "#Evaluating the Algorithm \n",
    "from sklearn.metrics import classification_report, confusion_matrix, accuracy_score\n",
    "\n",
    "#print(confusion_matrix(y_test,predictions))\n",
    "#print(classification_report(y_test,predictions))\n",
    "print(accuracy_score(y_test, predictions))"
   ]
  },
  {
   "cell_type": "code",
   "execution_count": null,
   "metadata": {},
   "outputs": [],
   "source": []
  }
 ],
 "metadata": {
  "kernelspec": {
   "display_name": "Python 3",
   "language": "python",
   "name": "python3"
  },
  "language_info": {
   "codemirror_mode": {
    "name": "ipython",
    "version": 3
   },
   "file_extension": ".py",
   "mimetype": "text/x-python",
   "name": "python",
   "nbconvert_exporter": "python",
   "pygments_lexer": "ipython3",
   "version": "3.8.10"
  }
 },
 "nbformat": 4,
 "nbformat_minor": 5
}
