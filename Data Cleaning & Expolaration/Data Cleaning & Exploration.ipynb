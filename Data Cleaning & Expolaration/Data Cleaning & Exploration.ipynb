{
 "cells": [
  {
   "cell_type": "code",
   "execution_count": 1,
   "id": "f9cd6d8a",
   "metadata": {},
   "outputs": [],
   "source": [
    "import numpy as np\n",
    "import matplotlib.pyplot as plt\n",
    "import pandas as pd\n",
    "import seaborn as sns\n",
    "\n",
    "%matplotlib inline"
   ]
  },
  {
   "cell_type": "code",
   "execution_count": 2,
   "id": "bc987224",
   "metadata": {},
   "outputs": [],
   "source": [
    "#import data and take a look\n",
    "\n",
    "df = pd.read_csv ('adult_csv.csv', na_values=['#NAME?'])"
   ]
  },
  {
   "cell_type": "code",
   "execution_count": 3,
   "id": "557a2dc7",
   "metadata": {},
   "outputs": [
    {
     "data": {
      "text/html": [
       "<div>\n",
       "<style scoped>\n",
       "    .dataframe tbody tr th:only-of-type {\n",
       "        vertical-align: middle;\n",
       "    }\n",
       "\n",
       "    .dataframe tbody tr th {\n",
       "        vertical-align: top;\n",
       "    }\n",
       "\n",
       "    .dataframe thead th {\n",
       "        text-align: right;\n",
       "    }\n",
       "</style>\n",
       "<table border=\"1\" class=\"dataframe\">\n",
       "  <thead>\n",
       "    <tr style=\"text-align: right;\">\n",
       "      <th></th>\n",
       "      <th>age</th>\n",
       "      <th>workclass</th>\n",
       "      <th>fnlwgt</th>\n",
       "      <th>education</th>\n",
       "      <th>education-num</th>\n",
       "      <th>marital-status</th>\n",
       "      <th>occupation</th>\n",
       "      <th>relationship</th>\n",
       "      <th>race</th>\n",
       "      <th>sex</th>\n",
       "      <th>capitalgain</th>\n",
       "      <th>capitalloss</th>\n",
       "      <th>hoursperweek</th>\n",
       "      <th>native-country</th>\n",
       "      <th>class</th>\n",
       "    </tr>\n",
       "  </thead>\n",
       "  <tbody>\n",
       "    <tr>\n",
       "      <th>0</th>\n",
       "      <td>2</td>\n",
       "      <td>State-gov</td>\n",
       "      <td>77516</td>\n",
       "      <td>Bachelors</td>\n",
       "      <td>13</td>\n",
       "      <td>Never-married</td>\n",
       "      <td>Adm-clerical</td>\n",
       "      <td>Not-in-family</td>\n",
       "      <td>White</td>\n",
       "      <td>Male</td>\n",
       "      <td>1</td>\n",
       "      <td>0</td>\n",
       "      <td>2</td>\n",
       "      <td>United-States</td>\n",
       "      <td>&lt;=50K</td>\n",
       "    </tr>\n",
       "    <tr>\n",
       "      <th>1</th>\n",
       "      <td>3</td>\n",
       "      <td>Self-emp-not-inc</td>\n",
       "      <td>83311</td>\n",
       "      <td>Bachelors</td>\n",
       "      <td>13</td>\n",
       "      <td>Married-civ-spouse</td>\n",
       "      <td>Exec-managerial</td>\n",
       "      <td>Husband</td>\n",
       "      <td>White</td>\n",
       "      <td>Male</td>\n",
       "      <td>0</td>\n",
       "      <td>0</td>\n",
       "      <td>0</td>\n",
       "      <td>United-States</td>\n",
       "      <td>&lt;=50K</td>\n",
       "    </tr>\n",
       "    <tr>\n",
       "      <th>2</th>\n",
       "      <td>2</td>\n",
       "      <td>Private</td>\n",
       "      <td>215646</td>\n",
       "      <td>HS-grad</td>\n",
       "      <td>9</td>\n",
       "      <td>Divorced</td>\n",
       "      <td>Handlers-cleaners</td>\n",
       "      <td>Not-in-family</td>\n",
       "      <td>White</td>\n",
       "      <td>Male</td>\n",
       "      <td>0</td>\n",
       "      <td>0</td>\n",
       "      <td>2</td>\n",
       "      <td>United-States</td>\n",
       "      <td>&lt;=50K</td>\n",
       "    </tr>\n",
       "    <tr>\n",
       "      <th>3</th>\n",
       "      <td>3</td>\n",
       "      <td>Private</td>\n",
       "      <td>234721</td>\n",
       "      <td>11th</td>\n",
       "      <td>7</td>\n",
       "      <td>Married-civ-spouse</td>\n",
       "      <td>Handlers-cleaners</td>\n",
       "      <td>Husband</td>\n",
       "      <td>Black</td>\n",
       "      <td>Male</td>\n",
       "      <td>0</td>\n",
       "      <td>0</td>\n",
       "      <td>2</td>\n",
       "      <td>United-States</td>\n",
       "      <td>&lt;=50K</td>\n",
       "    </tr>\n",
       "    <tr>\n",
       "      <th>4</th>\n",
       "      <td>1</td>\n",
       "      <td>Private</td>\n",
       "      <td>338409</td>\n",
       "      <td>Bachelors</td>\n",
       "      <td>13</td>\n",
       "      <td>Married-civ-spouse</td>\n",
       "      <td>Prof-specialty</td>\n",
       "      <td>Wife</td>\n",
       "      <td>Black</td>\n",
       "      <td>Female</td>\n",
       "      <td>0</td>\n",
       "      <td>0</td>\n",
       "      <td>2</td>\n",
       "      <td>Cuba</td>\n",
       "      <td>&lt;=50K</td>\n",
       "    </tr>\n",
       "  </tbody>\n",
       "</table>\n",
       "</div>"
      ],
      "text/plain": [
       "   age         workclass  fnlwgt  education  education-num  \\\n",
       "0    2         State-gov   77516  Bachelors             13   \n",
       "1    3  Self-emp-not-inc   83311  Bachelors             13   \n",
       "2    2           Private  215646    HS-grad              9   \n",
       "3    3           Private  234721       11th              7   \n",
       "4    1           Private  338409  Bachelors             13   \n",
       "\n",
       "       marital-status         occupation   relationship   race     sex  \\\n",
       "0       Never-married       Adm-clerical  Not-in-family  White    Male   \n",
       "1  Married-civ-spouse    Exec-managerial        Husband  White    Male   \n",
       "2            Divorced  Handlers-cleaners  Not-in-family  White    Male   \n",
       "3  Married-civ-spouse  Handlers-cleaners        Husband  Black    Male   \n",
       "4  Married-civ-spouse     Prof-specialty           Wife  Black  Female   \n",
       "\n",
       "   capitalgain  capitalloss  hoursperweek native-country  class  \n",
       "0            1            0             2  United-States  <=50K  \n",
       "1            0            0             0  United-States  <=50K  \n",
       "2            0            0             2  United-States  <=50K  \n",
       "3            0            0             2  United-States  <=50K  \n",
       "4            0            0             2           Cuba  <=50K  "
      ]
     },
     "execution_count": 3,
     "metadata": {},
     "output_type": "execute_result"
    }
   ],
   "source": [
    "df.head()"
   ]
  },
  {
   "cell_type": "code",
   "execution_count": 4,
   "id": "3b9b01d8",
   "metadata": {},
   "outputs": [
    {
     "data": {
      "text/plain": [
       "(48842, 15)"
      ]
     },
     "execution_count": 4,
     "metadata": {},
     "output_type": "execute_result"
    }
   ],
   "source": [
    "df.shape"
   ]
  },
  {
   "cell_type": "code",
   "execution_count": 5,
   "id": "ac036c05",
   "metadata": {},
   "outputs": [
    {
     "name": "stdout",
     "output_type": "stream",
     "text": [
      "<=50K    37155\n",
      ">50K     11687\n",
      "Name: class, dtype: int64\n"
     ]
    }
   ],
   "source": [
    "# Take a look at the outcome variable: 'income' known as 'class'\n",
    "print(df['class'].value_counts())"
   ]
  },
  {
   "cell_type": "code",
   "execution_count": 6,
   "id": "1c572062",
   "metadata": {},
   "outputs": [
    {
     "name": "stderr",
     "output_type": "stream",
     "text": [
      "/tmp/ipykernel_700788/642667963.py:6: FutureWarning: In a future version of pandas all arguments of DataFrame.drop except for the argument 'labels' will be keyword-only\n",
      "  X = df.drop('class', 1)\n"
     ]
    }
   ],
   "source": [
    "#Assign outcome as 0 if class <=50K and as 1 if class >50K\n",
    "\n",
    "df['class'] = [0 if x == '<=50K' else 1 for x in df['class']]\n",
    "\n",
    "#Assign X as a DataFrame of features and y as a Series of the outcome variable\n",
    "X = df.drop('class', 1)\n",
    "y = df['class'] "
   ]
  },
  {
   "cell_type": "code",
   "execution_count": 7,
   "id": "b27e8923",
   "metadata": {},
   "outputs": [
    {
     "data": {
      "text/html": [
       "<div>\n",
       "<style scoped>\n",
       "    .dataframe tbody tr th:only-of-type {\n",
       "        vertical-align: middle;\n",
       "    }\n",
       "\n",
       "    .dataframe tbody tr th {\n",
       "        vertical-align: top;\n",
       "    }\n",
       "\n",
       "    .dataframe thead th {\n",
       "        text-align: right;\n",
       "    }\n",
       "</style>\n",
       "<table border=\"1\" class=\"dataframe\">\n",
       "  <thead>\n",
       "    <tr style=\"text-align: right;\">\n",
       "      <th></th>\n",
       "      <th>age</th>\n",
       "      <th>workclass</th>\n",
       "      <th>fnlwgt</th>\n",
       "      <th>education</th>\n",
       "      <th>education-num</th>\n",
       "      <th>marital-status</th>\n",
       "      <th>occupation</th>\n",
       "      <th>relationship</th>\n",
       "      <th>race</th>\n",
       "      <th>sex</th>\n",
       "      <th>capitalgain</th>\n",
       "      <th>capitalloss</th>\n",
       "      <th>hoursperweek</th>\n",
       "      <th>native-country</th>\n",
       "    </tr>\n",
       "  </thead>\n",
       "  <tbody>\n",
       "    <tr>\n",
       "      <th>0</th>\n",
       "      <td>2</td>\n",
       "      <td>State-gov</td>\n",
       "      <td>77516</td>\n",
       "      <td>Bachelors</td>\n",
       "      <td>13</td>\n",
       "      <td>Never-married</td>\n",
       "      <td>Adm-clerical</td>\n",
       "      <td>Not-in-family</td>\n",
       "      <td>White</td>\n",
       "      <td>Male</td>\n",
       "      <td>1</td>\n",
       "      <td>0</td>\n",
       "      <td>2</td>\n",
       "      <td>United-States</td>\n",
       "    </tr>\n",
       "    <tr>\n",
       "      <th>1</th>\n",
       "      <td>3</td>\n",
       "      <td>Self-emp-not-inc</td>\n",
       "      <td>83311</td>\n",
       "      <td>Bachelors</td>\n",
       "      <td>13</td>\n",
       "      <td>Married-civ-spouse</td>\n",
       "      <td>Exec-managerial</td>\n",
       "      <td>Husband</td>\n",
       "      <td>White</td>\n",
       "      <td>Male</td>\n",
       "      <td>0</td>\n",
       "      <td>0</td>\n",
       "      <td>0</td>\n",
       "      <td>United-States</td>\n",
       "    </tr>\n",
       "    <tr>\n",
       "      <th>2</th>\n",
       "      <td>2</td>\n",
       "      <td>Private</td>\n",
       "      <td>215646</td>\n",
       "      <td>HS-grad</td>\n",
       "      <td>9</td>\n",
       "      <td>Divorced</td>\n",
       "      <td>Handlers-cleaners</td>\n",
       "      <td>Not-in-family</td>\n",
       "      <td>White</td>\n",
       "      <td>Male</td>\n",
       "      <td>0</td>\n",
       "      <td>0</td>\n",
       "      <td>2</td>\n",
       "      <td>United-States</td>\n",
       "    </tr>\n",
       "    <tr>\n",
       "      <th>3</th>\n",
       "      <td>3</td>\n",
       "      <td>Private</td>\n",
       "      <td>234721</td>\n",
       "      <td>11th</td>\n",
       "      <td>7</td>\n",
       "      <td>Married-civ-spouse</td>\n",
       "      <td>Handlers-cleaners</td>\n",
       "      <td>Husband</td>\n",
       "      <td>Black</td>\n",
       "      <td>Male</td>\n",
       "      <td>0</td>\n",
       "      <td>0</td>\n",
       "      <td>2</td>\n",
       "      <td>United-States</td>\n",
       "    </tr>\n",
       "    <tr>\n",
       "      <th>4</th>\n",
       "      <td>1</td>\n",
       "      <td>Private</td>\n",
       "      <td>338409</td>\n",
       "      <td>Bachelors</td>\n",
       "      <td>13</td>\n",
       "      <td>Married-civ-spouse</td>\n",
       "      <td>Prof-specialty</td>\n",
       "      <td>Wife</td>\n",
       "      <td>Black</td>\n",
       "      <td>Female</td>\n",
       "      <td>0</td>\n",
       "      <td>0</td>\n",
       "      <td>2</td>\n",
       "      <td>Cuba</td>\n",
       "    </tr>\n",
       "  </tbody>\n",
       "</table>\n",
       "</div>"
      ],
      "text/plain": [
       "   age         workclass  fnlwgt  education  education-num  \\\n",
       "0    2         State-gov   77516  Bachelors             13   \n",
       "1    3  Self-emp-not-inc   83311  Bachelors             13   \n",
       "2    2           Private  215646    HS-grad              9   \n",
       "3    3           Private  234721       11th              7   \n",
       "4    1           Private  338409  Bachelors             13   \n",
       "\n",
       "       marital-status         occupation   relationship   race     sex  \\\n",
       "0       Never-married       Adm-clerical  Not-in-family  White    Male   \n",
       "1  Married-civ-spouse    Exec-managerial        Husband  White    Male   \n",
       "2            Divorced  Handlers-cleaners  Not-in-family  White    Male   \n",
       "3  Married-civ-spouse  Handlers-cleaners        Husband  Black    Male   \n",
       "4  Married-civ-spouse     Prof-specialty           Wife  Black  Female   \n",
       "\n",
       "   capitalgain  capitalloss  hoursperweek native-country  \n",
       "0            1            0             2  United-States  \n",
       "1            0            0             0  United-States  \n",
       "2            0            0             2  United-States  \n",
       "3            0            0             2  United-States  \n",
       "4            0            0             2           Cuba  "
      ]
     },
     "execution_count": 7,
     "metadata": {},
     "output_type": "execute_result"
    }
   ],
   "source": [
    "X.head()"
   ]
  },
  {
   "cell_type": "code",
   "execution_count": 8,
   "id": "500d59c8",
   "metadata": {},
   "outputs": [
    {
     "data": {
      "text/plain": [
       "0    0\n",
       "1    0\n",
       "2    0\n",
       "3    0\n",
       "4    0\n",
       "Name: class, dtype: int64"
      ]
     },
     "execution_count": 8,
     "metadata": {},
     "output_type": "execute_result"
    }
   ],
   "source": [
    "y.head()"
   ]
  },
  {
   "cell_type": "markdown",
   "id": "b1dee227",
   "metadata": {},
   "source": [
    "## Basic data cleaning"
   ]
  },
  {
   "cell_type": "code",
   "execution_count": 9,
   "id": "e9bfa9cd",
   "metadata": {},
   "outputs": [
    {
     "name": "stdout",
     "output_type": "stream",
     "text": [
      "0    Bachelors\n",
      "1    Bachelors\n",
      "2      HS-grad\n",
      "3         11th\n",
      "4    Bachelors\n",
      "Name: education, dtype: object\n"
     ]
    }
   ],
   "source": [
    "# Education is a categorical feature:\n",
    "\n",
    "print(X['education'].head())"
   ]
  },
  {
   "cell_type": "code",
   "execution_count": 10,
   "id": "a4761313",
   "metadata": {},
   "outputs": [
    {
     "name": "stdout",
     "output_type": "stream",
     "text": [
      "   10th  11th  12th  1st-4th  5th-6th  7th-8th  9th  Assoc-acdm  Assoc-voc  \\\n",
      "0     0     0     0        0        0        0    0           0          0   \n",
      "1     0     0     0        0        0        0    0           0          0   \n",
      "2     0     0     0        0        0        0    0           0          0   \n",
      "3     0     1     0        0        0        0    0           0          0   \n",
      "4     0     0     0        0        0        0    0           0          0   \n",
      "\n",
      "   Bachelors  Doctorate  HS-grad  Masters  Preschool  Prof-school  \\\n",
      "0          1          0        0        0          0            0   \n",
      "1          1          0        0        0          0            0   \n",
      "2          0          0        1        0          0            0   \n",
      "3          0          0        0        0          0            0   \n",
      "4          1          0        0        0          0            0   \n",
      "\n",
      "   Some-college  \n",
      "0             0  \n",
      "1             0  \n",
      "2             0  \n",
      "3             0  \n",
      "4             0  \n"
     ]
    }
   ],
   "source": [
    "# Use get_dummies in pandas\n",
    "# Another option: OneHotEncoder in sci-kit learn\n",
    "\n",
    "print(pd.get_dummies(X['education']).head())"
   ]
  },
  {
   "cell_type": "code",
   "execution_count": 11,
   "id": "94418f54",
   "metadata": {},
   "outputs": [
    {
     "name": "stdout",
     "output_type": "stream",
     "text": [
      "Feature 'workclass' has 9 unique categories\n",
      "Feature 'education' has 16 unique categories\n",
      "Feature 'marital-status' has 7 unique categories\n",
      "Feature 'occupation' has 15 unique categories\n",
      "Feature 'relationship' has 6 unique categories\n",
      "Feature 'race' has 5 unique categories\n",
      "Feature 'sex' has 2 unique categories\n",
      "Feature 'native-country' has 42 unique categories\n"
     ]
    }
   ],
   "source": [
    "# Decide which categorical variables you want to use in model\n",
    "\n",
    "for col_name in X.columns:\n",
    "    if X[col_name].dtypes == 'object':\n",
    "        unique_cat = len(X[col_name].unique())\n",
    "        print(\"Feature '{col_name}' has {unique_cat} unique categories\".format(col_name=col_name, unique_cat=unique_cat))"
   ]
  },
  {
   "cell_type": "code",
   "execution_count": 12,
   "id": "b370a5b2",
   "metadata": {},
   "outputs": [
    {
     "name": "stdout",
     "output_type": "stream",
     "text": [
      "United-States    43832\n",
      "Mexico             951\n",
      "Philippines        295\n",
      "Germany            206\n",
      "Puerto-Rico        184\n",
      "Canada             182\n",
      "El-Salvador        155\n",
      "India              151\n",
      "Cuba               138\n",
      "England            127\n",
      "Name: native-country, dtype: int64\n"
     ]
    }
   ],
   "source": [
    "# Although, 'native_country' has a lot of unique categories, most categories only have a few observations\n",
    "\n",
    "print(X['native-country'].value_counts().sort_values(ascending=False).head(10))"
   ]
  },
  {
   "cell_type": "code",
   "execution_count": 13,
   "id": "afb9520c",
   "metadata": {},
   "outputs": [
    {
     "name": "stdout",
     "output_type": "stream",
     "text": [
      "United-States    43832\n",
      "Other             5010\n",
      "Name: native-country, dtype: int64\n"
     ]
    }
   ],
   "source": [
    "# In this case, bucket low frequency categories as \"Other\"\n",
    "\n",
    "X['native-country'] = ['United-States' if x == 'United-States' else 'Other' for x in X['native-country']]\n",
    "\n",
    "print(X['native-country'].value_counts().sort_values(ascending=False))"
   ]
  },
  {
   "cell_type": "code",
   "execution_count": 14,
   "id": "9c5c65ff",
   "metadata": {},
   "outputs": [],
   "source": [
    "# Create a list of features to dummy\n",
    "\n",
    "todummy_list = ['workclass', 'education', 'marital-status', 'occupation', 'relationship', 'race', 'sex', 'native-country']"
   ]
  },
  {
   "cell_type": "code",
   "execution_count": 15,
   "id": "f48b05e2",
   "metadata": {},
   "outputs": [],
   "source": [
    "# Fuction to dummy all the categorical variables used for modeling\n",
    "\n",
    "def dummy_df(df, todummy_list):\n",
    "    for x in todummy_list:\n",
    "        dummies = pd.get_dummies(df[x], prefix=x, dummy_na=False)\n",
    "        df = df.drop(x, 1)\n",
    "        df = pd.concat([df, dummies], axis=1)\n",
    "    return df"
   ]
  },
  {
   "cell_type": "code",
   "execution_count": 16,
   "id": "322cd754",
   "metadata": {},
   "outputs": [
    {
     "name": "stderr",
     "output_type": "stream",
     "text": [
      "/tmp/ipykernel_700788/3620565919.py:6: FutureWarning: In a future version of pandas all arguments of DataFrame.drop except for the argument 'labels' will be keyword-only\n",
      "  df = df.drop(x, 1)\n"
     ]
    },
    {
     "data": {
      "text/html": [
       "<div>\n",
       "<style scoped>\n",
       "    .dataframe tbody tr th:only-of-type {\n",
       "        vertical-align: middle;\n",
       "    }\n",
       "\n",
       "    .dataframe tbody tr th {\n",
       "        vertical-align: top;\n",
       "    }\n",
       "\n",
       "    .dataframe thead th {\n",
       "        text-align: right;\n",
       "    }\n",
       "</style>\n",
       "<table border=\"1\" class=\"dataframe\">\n",
       "  <thead>\n",
       "    <tr style=\"text-align: right;\">\n",
       "      <th></th>\n",
       "      <th>age</th>\n",
       "      <th>fnlwgt</th>\n",
       "      <th>education-num</th>\n",
       "      <th>capitalgain</th>\n",
       "      <th>capitalloss</th>\n",
       "      <th>hoursperweek</th>\n",
       "      <th>workclass_Federal-gov</th>\n",
       "      <th>workclass_Local-gov</th>\n",
       "      <th>workclass_Never-worked</th>\n",
       "      <th>workclass_Private</th>\n",
       "      <th>...</th>\n",
       "      <th>relationship_Wife</th>\n",
       "      <th>race_Amer-Indian-Eskimo</th>\n",
       "      <th>race_Asian-Pac-Islander</th>\n",
       "      <th>race_Black</th>\n",
       "      <th>race_Other</th>\n",
       "      <th>race_White</th>\n",
       "      <th>sex_Female</th>\n",
       "      <th>sex_Male</th>\n",
       "      <th>native-country_Other</th>\n",
       "      <th>native-country_United-States</th>\n",
       "    </tr>\n",
       "  </thead>\n",
       "  <tbody>\n",
       "    <tr>\n",
       "      <th>0</th>\n",
       "      <td>2</td>\n",
       "      <td>77516</td>\n",
       "      <td>13</td>\n",
       "      <td>1</td>\n",
       "      <td>0</td>\n",
       "      <td>2</td>\n",
       "      <td>0</td>\n",
       "      <td>0</td>\n",
       "      <td>0</td>\n",
       "      <td>0</td>\n",
       "      <td>...</td>\n",
       "      <td>0</td>\n",
       "      <td>0</td>\n",
       "      <td>0</td>\n",
       "      <td>0</td>\n",
       "      <td>0</td>\n",
       "      <td>1</td>\n",
       "      <td>0</td>\n",
       "      <td>1</td>\n",
       "      <td>0</td>\n",
       "      <td>1</td>\n",
       "    </tr>\n",
       "    <tr>\n",
       "      <th>1</th>\n",
       "      <td>3</td>\n",
       "      <td>83311</td>\n",
       "      <td>13</td>\n",
       "      <td>0</td>\n",
       "      <td>0</td>\n",
       "      <td>0</td>\n",
       "      <td>0</td>\n",
       "      <td>0</td>\n",
       "      <td>0</td>\n",
       "      <td>0</td>\n",
       "      <td>...</td>\n",
       "      <td>0</td>\n",
       "      <td>0</td>\n",
       "      <td>0</td>\n",
       "      <td>0</td>\n",
       "      <td>0</td>\n",
       "      <td>1</td>\n",
       "      <td>0</td>\n",
       "      <td>1</td>\n",
       "      <td>0</td>\n",
       "      <td>1</td>\n",
       "    </tr>\n",
       "    <tr>\n",
       "      <th>2</th>\n",
       "      <td>2</td>\n",
       "      <td>215646</td>\n",
       "      <td>9</td>\n",
       "      <td>0</td>\n",
       "      <td>0</td>\n",
       "      <td>2</td>\n",
       "      <td>0</td>\n",
       "      <td>0</td>\n",
       "      <td>0</td>\n",
       "      <td>1</td>\n",
       "      <td>...</td>\n",
       "      <td>0</td>\n",
       "      <td>0</td>\n",
       "      <td>0</td>\n",
       "      <td>0</td>\n",
       "      <td>0</td>\n",
       "      <td>1</td>\n",
       "      <td>0</td>\n",
       "      <td>1</td>\n",
       "      <td>0</td>\n",
       "      <td>1</td>\n",
       "    </tr>\n",
       "    <tr>\n",
       "      <th>3</th>\n",
       "      <td>3</td>\n",
       "      <td>234721</td>\n",
       "      <td>7</td>\n",
       "      <td>0</td>\n",
       "      <td>0</td>\n",
       "      <td>2</td>\n",
       "      <td>0</td>\n",
       "      <td>0</td>\n",
       "      <td>0</td>\n",
       "      <td>1</td>\n",
       "      <td>...</td>\n",
       "      <td>0</td>\n",
       "      <td>0</td>\n",
       "      <td>0</td>\n",
       "      <td>1</td>\n",
       "      <td>0</td>\n",
       "      <td>0</td>\n",
       "      <td>0</td>\n",
       "      <td>1</td>\n",
       "      <td>0</td>\n",
       "      <td>1</td>\n",
       "    </tr>\n",
       "    <tr>\n",
       "      <th>4</th>\n",
       "      <td>1</td>\n",
       "      <td>338409</td>\n",
       "      <td>13</td>\n",
       "      <td>0</td>\n",
       "      <td>0</td>\n",
       "      <td>2</td>\n",
       "      <td>0</td>\n",
       "      <td>0</td>\n",
       "      <td>0</td>\n",
       "      <td>1</td>\n",
       "      <td>...</td>\n",
       "      <td>1</td>\n",
       "      <td>0</td>\n",
       "      <td>0</td>\n",
       "      <td>1</td>\n",
       "      <td>0</td>\n",
       "      <td>0</td>\n",
       "      <td>1</td>\n",
       "      <td>0</td>\n",
       "      <td>1</td>\n",
       "      <td>0</td>\n",
       "    </tr>\n",
       "  </tbody>\n",
       "</table>\n",
       "<p>5 rows × 66 columns</p>\n",
       "</div>"
      ],
      "text/plain": [
       "   age  fnlwgt  education-num  capitalgain  capitalloss  hoursperweek  \\\n",
       "0    2   77516             13            1            0             2   \n",
       "1    3   83311             13            0            0             0   \n",
       "2    2  215646              9            0            0             2   \n",
       "3    3  234721              7            0            0             2   \n",
       "4    1  338409             13            0            0             2   \n",
       "\n",
       "   workclass_Federal-gov  workclass_Local-gov  workclass_Never-worked  \\\n",
       "0                      0                    0                       0   \n",
       "1                      0                    0                       0   \n",
       "2                      0                    0                       0   \n",
       "3                      0                    0                       0   \n",
       "4                      0                    0                       0   \n",
       "\n",
       "   workclass_Private  ...  relationship_Wife  race_Amer-Indian-Eskimo  \\\n",
       "0                  0  ...                  0                        0   \n",
       "1                  0  ...                  0                        0   \n",
       "2                  1  ...                  0                        0   \n",
       "3                  1  ...                  0                        0   \n",
       "4                  1  ...                  1                        0   \n",
       "\n",
       "   race_Asian-Pac-Islander  race_Black  race_Other  race_White  sex_Female  \\\n",
       "0                        0           0           0           1           0   \n",
       "1                        0           0           0           1           0   \n",
       "2                        0           0           0           1           0   \n",
       "3                        0           1           0           0           0   \n",
       "4                        0           1           0           0           1   \n",
       "\n",
       "   sex_Male  native-country_Other  native-country_United-States  \n",
       "0         1                     0                             1  \n",
       "1         1                     0                             1  \n",
       "2         1                     0                             1  \n",
       "3         1                     0                             1  \n",
       "4         0                     1                             0  \n",
       "\n",
       "[5 rows x 66 columns]"
      ]
     },
     "execution_count": 16,
     "metadata": {},
     "output_type": "execute_result"
    }
   ],
   "source": [
    "X = dummy_df(X, todummy_list)\n",
    "X.head()"
   ]
  },
  {
   "cell_type": "markdown",
   "id": "735f89f5",
   "metadata": {},
   "source": [
    "## Handling missing data"
   ]
  },
  {
   "cell_type": "code",
   "execution_count": 17,
   "id": "c0411c1a",
   "metadata": {},
   "outputs": [
    {
     "data": {
      "text/plain": [
       "age                         0\n",
       "occupation_Tech-support     0\n",
       "marital-status_Separated    0\n",
       "marital-status_Widowed      0\n",
       "occupation_Adm-clerical     0\n",
       "dtype: int64"
      ]
     },
     "execution_count": 17,
     "metadata": {},
     "output_type": "execute_result"
    }
   ],
   "source": [
    "# How much of your data is missing?\n",
    "\n",
    "X.isnull().sum().sort_values(ascending=False).head()"
   ]
  },
  {
   "cell_type": "code",
   "execution_count": 18,
   "id": "6f64a819",
   "metadata": {},
   "outputs": [],
   "source": [
    "# If you have missing values. Impute missing values using Impute in sklearn.preprocessing\n",
    "from sklearn.impute import SimpleImputer\n",
    "\n",
    "imp = SimpleImputer(missing_values=np.NaN, strategy='median')\n",
    "imp.fit(X)\n",
    "X = pd.DataFrame(data=imp.transform(X), columns=X.columns)"
   ]
  },
  {
   "cell_type": "code",
   "execution_count": 19,
   "id": "809c2934",
   "metadata": {},
   "outputs": [
    {
     "data": {
      "text/plain": [
       "age                         0\n",
       "occupation_Tech-support     0\n",
       "marital-status_Separated    0\n",
       "marital-status_Widowed      0\n",
       "occupation_Adm-clerical     0\n",
       "dtype: int64"
      ]
     },
     "execution_count": 19,
     "metadata": {},
     "output_type": "execute_result"
    }
   ],
   "source": [
    "# Now check againg to see if you have missing data\n",
    "\n",
    "X.isnull().sum().sort_values(ascending=False).head()"
   ]
  },
  {
   "cell_type": "markdown",
   "id": "903116e0",
   "metadata": {},
   "source": [
    "## More Data Exploration\n",
    "###  Outlier detection"
   ]
  },
  {
   "cell_type": "code",
   "execution_count": 20,
   "id": "82f7c5c5",
   "metadata": {},
   "outputs": [],
   "source": [
    "#How to import an image and show\n",
    "\n",
    "#from PIL import Image\n",
    "#myImage = Image.open('IQR.png')\n",
    "#myImage.show()"
   ]
  },
  {
   "cell_type": "code",
   "execution_count": 21,
   "id": "fa230f70",
   "metadata": {},
   "outputs": [],
   "source": [
    " #find outliers using tukey IQR rules\n",
    "    \n",
    "def find_outliers_tukey(x):\n",
    "    q1 = np.percentile(x, 25)\n",
    "    q3 = np.percentile(x, 75)\n",
    "    iqr = q3 - q1\n",
    "    floor = q1 - 1.5*iqr\n",
    "    ceiling = q3 + 1.5*iqr\n",
    "    outlier_indices = list(x.index[(x < floor) |(x > ceiling)])\n",
    "    outlier_values = list(x[outlier_indices])\n",
    "    \n",
    "    return outlier_indices, outlier_values"
   ]
  },
  {
   "cell_type": "code",
   "execution_count": 22,
   "id": "24a468b8",
   "metadata": {},
   "outputs": [
    {
     "name": "stdout",
     "output_type": "stream",
     "text": [
      "[]\n"
     ]
    }
   ],
   "source": [
    "tukey_indices, tukey_values = find_outliers_tukey(X['age'])\n",
    "print(np.sort(tukey_values))"
   ]
  },
  {
   "cell_type": "markdown",
   "id": "2bd776a1",
   "metadata": {},
   "source": [
    "### Outlier detection - Kernel Density Estimation"
   ]
  },
  {
   "cell_type": "code",
   "execution_count": 23,
   "id": "3722a911",
   "metadata": {},
   "outputs": [],
   "source": [
    "from sklearn.preprocessing import scale\n",
    "from statsmodels.nonparametric.kde import KDEUnivariate\n",
    "\n",
    "def find_outliers_kde(x):\n",
    "    x_scaled = scale(list(map(float, x)))\n",
    "    kde = KDEUnivariate(x_scaled)\n",
    "    kde.fit(bw=\"scott\", fft=True)\n",
    "    pred = kde.evaluate(x_scaled)\n",
    "    \n",
    "    n = sum(pred < 0.05)\n",
    "    outlier_ind = np.asarray(pred).argsort()[:n]\n",
    "    outlier_value = np.asarray(x)[outlier_ind]\n",
    "    \n",
    "    return outlier_ind, outlier_value"
   ]
  },
  {
   "cell_type": "code",
   "execution_count": null,
   "id": "36f7fa38",
   "metadata": {},
   "outputs": [],
   "source": [
    "kde_indices, kde_values = find_outliers_kde(X['age'])\n",
    "print(np.sort(kde_values))"
   ]
  },
  {
   "cell_type": "markdown",
   "id": "d0ed0629",
   "metadata": {},
   "source": [
    "## Distribution of Features"
   ]
  },
  {
   "cell_type": "code",
   "execution_count": 24,
   "id": "05e7f8c1",
   "metadata": {},
   "outputs": [],
   "source": [
    "# Use pyplot in matplotlib to plot histograms\n",
    "\n",
    "def plot_histogram(x):\n",
    "    plt.hist(x, color='gray', alpha=0.5)\n",
    "    plt.title(\"Histogram of '{var_name}'\".format(var_name=x.name))\n",
    "    plt.xlabel(\"Value\")\n",
    "    plt.ylabel(\"Frequency\")\n",
    "    plt.show()"
   ]
  },
  {
   "cell_type": "code",
   "execution_count": 25,
   "id": "e466efb3",
   "metadata": {},
   "outputs": [
    {
     "data": {
      "image/png": "[encoded data removed]",
      "text/plain": [
       "<Figure size 432x288 with 1 Axes>"
      ]
     },
     "metadata": {
      "needs_background": "light"
     },
     "output_type": "display_data"
    }
   ],
   "source": [
    "plot_histogram(X['age'])"
   ]
  },
  {
   "cell_type": "code",
   "execution_count": 26,
   "id": "468edfb9",
   "metadata": {},
   "outputs": [],
   "source": [
    "# Plot histograms to show distribution of features by DV categories\n",
    "\n",
    "def plot_histogram_dv(x,y):\n",
    "    plt.hist(list(x[y==0]), alpha=0.5, label='DV=0')\n",
    "    plt.hist(list(x[y==1]), alpha=0.5, label='DV=1')\n",
    "    plt.title(\"Histogram of '{var_name}' by DV Category\".format(var_name=x.name))\n",
    "    plt.xlabel(\"Value\")\n",
    "    plt.ylabel(\"Frequency\")\n",
    "    plt.legend(loc='upper right')\n",
    "    plt.show()"
   ]
  },
  {
   "cell_type": "code",
   "execution_count": 27,
   "id": "9010207d",
   "metadata": {},
   "outputs": [
    {
     "data": {
      "image/png": "[encoded data removed]",
      "text/plain": [
       "<Figure size 432x288 with 1 Axes>"
      ]
     },
     "metadata": {
      "needs_background": "light"
     },
     "output_type": "display_data"
    }
   ],
   "source": [
    "plot_histogram_dv(X['age'], y)"
   ]
  },
  {
   "cell_type": "markdown",
   "id": "19da0561",
   "metadata": {},
   "source": [
    "## Feature Engineering"
   ]
  },
  {
   "cell_type": "code",
   "execution_count": 28,
   "id": "1d1fa295",
   "metadata": {},
   "outputs": [],
   "source": [
    "# Use PloynomialFeatures in sklearn.preprocessing to create two-way interactions for all features\n",
    "from itertools import combinations\n",
    "from sklearn.preprocessing import PolynomialFeatures\n",
    "\n",
    "def add_interactions(df):\n",
    "    #Get feature names\n",
    "    combos = list(combinations(list(df.columns), 2))\n",
    "    colnames = list(df.columns) + ['_'.join(x) for x in combos]\n",
    "    \n",
    "    #Find interactions\n",
    "    poly = PolynomialFeatures(interaction_only=True, include_bias=False)\n",
    "    df = poly.fit_transform(df)\n",
    "    df = pd.DataFrame(df)\n",
    "    df.columns = colnames\n",
    "    \n",
    "    # Remove interaction terms with all 0 values\n",
    "    noint_indices = [i for i, x in enumerate(list((df == 0).all())) if x]\n",
    "    df = df.drop(df.columns[noint_indices], axis=1)\n",
    "    \n",
    "    return df"
   ]
  },
  {
   "cell_type": "code",
   "execution_count": 29,
   "id": "7ed78e5b",
   "metadata": {},
   "outputs": [
    {
     "data": {
      "text/html": [
       "<div>\n",
       "<style scoped>\n",
       "    .dataframe tbody tr th:only-of-type {\n",
       "        vertical-align: middle;\n",
       "    }\n",
       "\n",
       "    .dataframe tbody tr th {\n",
       "        vertical-align: top;\n",
       "    }\n",
       "\n",
       "    .dataframe thead th {\n",
       "        text-align: right;\n",
       "    }\n",
       "</style>\n",
       "<table border=\"1\" class=\"dataframe\">\n",
       "  <thead>\n",
       "    <tr style=\"text-align: right;\">\n",
       "      <th></th>\n",
       "      <th>age</th>\n",
       "      <th>fnlwgt</th>\n",
       "      <th>education-num</th>\n",
       "      <th>capitalgain</th>\n",
       "      <th>capitalloss</th>\n",
       "      <th>hoursperweek</th>\n",
       "      <th>workclass_Federal-gov</th>\n",
       "      <th>workclass_Local-gov</th>\n",
       "      <th>workclass_Never-worked</th>\n",
       "      <th>workclass_Private</th>\n",
       "      <th>...</th>\n",
       "      <th>race_Other_native-country_Other</th>\n",
       "      <th>race_Other_native-country_United-States</th>\n",
       "      <th>race_White_sex_Female</th>\n",
       "      <th>race_White_sex_Male</th>\n",
       "      <th>race_White_native-country_Other</th>\n",
       "      <th>race_White_native-country_United-States</th>\n",
       "      <th>sex_Female_native-country_Other</th>\n",
       "      <th>sex_Female_native-country_United-States</th>\n",
       "      <th>sex_Male_native-country_Other</th>\n",
       "      <th>sex_Male_native-country_United-States</th>\n",
       "    </tr>\n",
       "  </thead>\n",
       "  <tbody>\n",
       "    <tr>\n",
       "      <th>0</th>\n",
       "      <td>2.0</td>\n",
       "      <td>77516.0</td>\n",
       "      <td>13.0</td>\n",
       "      <td>1.0</td>\n",
       "      <td>0.0</td>\n",
       "      <td>2.0</td>\n",
       "      <td>0.0</td>\n",
       "      <td>0.0</td>\n",
       "      <td>0.0</td>\n",
       "      <td>0.0</td>\n",
       "      <td>...</td>\n",
       "      <td>0.0</td>\n",
       "      <td>0.0</td>\n",
       "      <td>0.0</td>\n",
       "      <td>1.0</td>\n",
       "      <td>0.0</td>\n",
       "      <td>1.0</td>\n",
       "      <td>0.0</td>\n",
       "      <td>0.0</td>\n",
       "      <td>0.0</td>\n",
       "      <td>1.0</td>\n",
       "    </tr>\n",
       "    <tr>\n",
       "      <th>1</th>\n",
       "      <td>3.0</td>\n",
       "      <td>83311.0</td>\n",
       "      <td>13.0</td>\n",
       "      <td>0.0</td>\n",
       "      <td>0.0</td>\n",
       "      <td>0.0</td>\n",
       "      <td>0.0</td>\n",
       "      <td>0.0</td>\n",
       "      <td>0.0</td>\n",
       "      <td>0.0</td>\n",
       "      <td>...</td>\n",
       "      <td>0.0</td>\n",
       "      <td>0.0</td>\n",
       "      <td>0.0</td>\n",
       "      <td>1.0</td>\n",
       "      <td>0.0</td>\n",
       "      <td>1.0</td>\n",
       "      <td>0.0</td>\n",
       "      <td>0.0</td>\n",
       "      <td>0.0</td>\n",
       "      <td>1.0</td>\n",
       "    </tr>\n",
       "    <tr>\n",
       "      <th>2</th>\n",
       "      <td>2.0</td>\n",
       "      <td>215646.0</td>\n",
       "      <td>9.0</td>\n",
       "      <td>0.0</td>\n",
       "      <td>0.0</td>\n",
       "      <td>2.0</td>\n",
       "      <td>0.0</td>\n",
       "      <td>0.0</td>\n",
       "      <td>0.0</td>\n",
       "      <td>1.0</td>\n",
       "      <td>...</td>\n",
       "      <td>0.0</td>\n",
       "      <td>0.0</td>\n",
       "      <td>0.0</td>\n",
       "      <td>1.0</td>\n",
       "      <td>0.0</td>\n",
       "      <td>1.0</td>\n",
       "      <td>0.0</td>\n",
       "      <td>0.0</td>\n",
       "      <td>0.0</td>\n",
       "      <td>1.0</td>\n",
       "    </tr>\n",
       "    <tr>\n",
       "      <th>3</th>\n",
       "      <td>3.0</td>\n",
       "      <td>234721.0</td>\n",
       "      <td>7.0</td>\n",
       "      <td>0.0</td>\n",
       "      <td>0.0</td>\n",
       "      <td>2.0</td>\n",
       "      <td>0.0</td>\n",
       "      <td>0.0</td>\n",
       "      <td>0.0</td>\n",
       "      <td>1.0</td>\n",
       "      <td>...</td>\n",
       "      <td>0.0</td>\n",
       "      <td>0.0</td>\n",
       "      <td>0.0</td>\n",
       "      <td>0.0</td>\n",
       "      <td>0.0</td>\n",
       "      <td>0.0</td>\n",
       "      <td>0.0</td>\n",
       "      <td>0.0</td>\n",
       "      <td>0.0</td>\n",
       "      <td>1.0</td>\n",
       "    </tr>\n",
       "    <tr>\n",
       "      <th>4</th>\n",
       "      <td>1.0</td>\n",
       "      <td>338409.0</td>\n",
       "      <td>13.0</td>\n",
       "      <td>0.0</td>\n",
       "      <td>0.0</td>\n",
       "      <td>2.0</td>\n",
       "      <td>0.0</td>\n",
       "      <td>0.0</td>\n",
       "      <td>0.0</td>\n",
       "      <td>1.0</td>\n",
       "      <td>...</td>\n",
       "      <td>0.0</td>\n",
       "      <td>0.0</td>\n",
       "      <td>0.0</td>\n",
       "      <td>0.0</td>\n",
       "      <td>0.0</td>\n",
       "      <td>0.0</td>\n",
       "      <td>1.0</td>\n",
       "      <td>0.0</td>\n",
       "      <td>0.0</td>\n",
       "      <td>0.0</td>\n",
       "    </tr>\n",
       "  </tbody>\n",
       "</table>\n",
       "<p>5 rows × 1799 columns</p>\n",
       "</div>"
      ],
      "text/plain": [
       "   age    fnlwgt  education-num  capitalgain  capitalloss  hoursperweek  \\\n",
       "0  2.0   77516.0           13.0          1.0          0.0           2.0   \n",
       "1  3.0   83311.0           13.0          0.0          0.0           0.0   \n",
       "2  2.0  215646.0            9.0          0.0          0.0           2.0   \n",
       "3  3.0  234721.0            7.0          0.0          0.0           2.0   \n",
       "4  1.0  338409.0           13.0          0.0          0.0           2.0   \n",
       "\n",
       "   workclass_Federal-gov  workclass_Local-gov  workclass_Never-worked  \\\n",
       "0                    0.0                  0.0                     0.0   \n",
       "1                    0.0                  0.0                     0.0   \n",
       "2                    0.0                  0.0                     0.0   \n",
       "3                    0.0                  0.0                     0.0   \n",
       "4                    0.0                  0.0                     0.0   \n",
       "\n",
       "   workclass_Private  ...  race_Other_native-country_Other  \\\n",
       "0                0.0  ...                              0.0   \n",
       "1                0.0  ...                              0.0   \n",
       "2                1.0  ...                              0.0   \n",
       "3                1.0  ...                              0.0   \n",
       "4                1.0  ...                              0.0   \n",
       "\n",
       "   race_Other_native-country_United-States  race_White_sex_Female  \\\n",
       "0                                      0.0                    0.0   \n",
       "1                                      0.0                    0.0   \n",
       "2                                      0.0                    0.0   \n",
       "3                                      0.0                    0.0   \n",
       "4                                      0.0                    0.0   \n",
       "\n",
       "   race_White_sex_Male  race_White_native-country_Other  \\\n",
       "0                  1.0                              0.0   \n",
       "1                  1.0                              0.0   \n",
       "2                  1.0                              0.0   \n",
       "3                  0.0                              0.0   \n",
       "4                  0.0                              0.0   \n",
       "\n",
       "   race_White_native-country_United-States  sex_Female_native-country_Other  \\\n",
       "0                                      1.0                              0.0   \n",
       "1                                      1.0                              0.0   \n",
       "2                                      1.0                              0.0   \n",
       "3                                      0.0                              0.0   \n",
       "4                                      0.0                              1.0   \n",
       "\n",
       "   sex_Female_native-country_United-States  sex_Male_native-country_Other  \\\n",
       "0                                      0.0                            0.0   \n",
       "1                                      0.0                            0.0   \n",
       "2                                      0.0                            0.0   \n",
       "3                                      0.0                            0.0   \n",
       "4                                      0.0                            0.0   \n",
       "\n",
       "   sex_Male_native-country_United-States  \n",
       "0                                    1.0  \n",
       "1                                    1.0  \n",
       "2                                    1.0  \n",
       "3                                    1.0  \n",
       "4                                    0.0  \n",
       "\n",
       "[5 rows x 1799 columns]"
      ]
     },
     "execution_count": 29,
     "metadata": {},
     "output_type": "execute_result"
    }
   ],
   "source": [
    "X = add_interactions(X)\n",
    "X.head()"
   ]
  },
  {
   "cell_type": "markdown",
   "id": "f282ae89",
   "metadata": {},
   "source": [
    "### Dimesionality reduction using PCA"
   ]
  },
  {
   "cell_type": "code",
   "execution_count": 30,
   "id": "da561874",
   "metadata": {},
   "outputs": [],
   "source": [
    "# Use PCA from sklearn.decomposition to find principal components\n",
    "from sklearn.decomposition import PCA\n",
    "\n",
    "pca = PCA(n_components=10)\n",
    "X_pca = pd.DataFrame(pca.fit_transform(X))"
   ]
  },
  {
   "cell_type": "code",
   "execution_count": 31,
   "id": "30134398",
   "metadata": {},
   "outputs": [
    {
     "data": {
      "text/html": [
       "<div>\n",
       "<style scoped>\n",
       "    .dataframe tbody tr th:only-of-type {\n",
       "        vertical-align: middle;\n",
       "    }\n",
       "\n",
       "    .dataframe tbody tr th {\n",
       "        vertical-align: top;\n",
       "    }\n",
       "\n",
       "    .dataframe thead th {\n",
       "        text-align: right;\n",
       "    }\n",
       "</style>\n",
       "<table border=\"1\" class=\"dataframe\">\n",
       "  <thead>\n",
       "    <tr style=\"text-align: right;\">\n",
       "      <th></th>\n",
       "      <th>0</th>\n",
       "      <th>1</th>\n",
       "      <th>2</th>\n",
       "      <th>3</th>\n",
       "      <th>4</th>\n",
       "      <th>5</th>\n",
       "      <th>6</th>\n",
       "      <th>7</th>\n",
       "      <th>8</th>\n",
       "      <th>9</th>\n",
       "    </tr>\n",
       "  </thead>\n",
       "  <tbody>\n",
       "    <tr>\n",
       "      <th>0</th>\n",
       "      <td>-9.547508e+05</td>\n",
       "      <td>-84908.496010</td>\n",
       "      <td>68891.243150</td>\n",
       "      <td>-56662.367337</td>\n",
       "      <td>75333.538530</td>\n",
       "      <td>-45112.935014</td>\n",
       "      <td>-106234.492374</td>\n",
       "      <td>-23568.462563</td>\n",
       "      <td>16873.155787</td>\n",
       "      <td>-15295.512809</td>\n",
       "    </tr>\n",
       "    <tr>\n",
       "      <th>1</th>\n",
       "      <td>-8.931681e+05</td>\n",
       "      <td>2237.149876</td>\n",
       "      <td>194280.017536</td>\n",
       "      <td>-182441.470475</td>\n",
       "      <td>-68580.383938</td>\n",
       "      <td>-28944.392452</td>\n",
       "      <td>-32703.379600</td>\n",
       "      <td>-33597.010173</td>\n",
       "      <td>13778.090085</td>\n",
       "      <td>-24327.929725</td>\n",
       "    </tr>\n",
       "    <tr>\n",
       "      <th>2</th>\n",
       "      <td>7.358884e+04</td>\n",
       "      <td>102061.594633</td>\n",
       "      <td>-34470.505232</td>\n",
       "      <td>177825.935476</td>\n",
       "      <td>-12377.049143</td>\n",
       "      <td>116307.632285</td>\n",
       "      <td>-123675.000663</td>\n",
       "      <td>-1287.383031</td>\n",
       "      <td>75744.734256</td>\n",
       "      <td>-139662.879483</td>\n",
       "    </tr>\n",
       "    <tr>\n",
       "      <th>3</th>\n",
       "      <td>-1.711525e+05</td>\n",
       "      <td>472537.674738</td>\n",
       "      <td>-81140.830874</td>\n",
       "      <td>-2655.195449</td>\n",
       "      <td>-93131.550064</td>\n",
       "      <td>58988.534750</td>\n",
       "      <td>19964.206326</td>\n",
       "      <td>-71240.328945</td>\n",
       "      <td>89831.583864</td>\n",
       "      <td>237250.740080</td>\n",
       "    </tr>\n",
       "    <tr>\n",
       "      <th>4</th>\n",
       "      <td>2.481200e+06</td>\n",
       "      <td>-342701.977479</td>\n",
       "      <td>162640.506294</td>\n",
       "      <td>-73185.154208</td>\n",
       "      <td>17541.350482</td>\n",
       "      <td>-427029.964061</td>\n",
       "      <td>280590.605288</td>\n",
       "      <td>-126215.125061</td>\n",
       "      <td>163671.387319</td>\n",
       "      <td>31819.637475</td>\n",
       "    </tr>\n",
       "  </tbody>\n",
       "</table>\n",
       "</div>"
      ],
      "text/plain": [
       "              0              1              2              3             4  \\\n",
       "0 -9.547508e+05  -84908.496010   68891.243150  -56662.367337  75333.538530   \n",
       "1 -8.931681e+05    2237.149876  194280.017536 -182441.470475 -68580.383938   \n",
       "2  7.358884e+04  102061.594633  -34470.505232  177825.935476 -12377.049143   \n",
       "3 -1.711525e+05  472537.674738  -81140.830874   -2655.195449 -93131.550064   \n",
       "4  2.481200e+06 -342701.977479  162640.506294  -73185.154208  17541.350482   \n",
       "\n",
       "               5              6              7              8              9  \n",
       "0  -45112.935014 -106234.492374  -23568.462563   16873.155787  -15295.512809  \n",
       "1  -28944.392452  -32703.379600  -33597.010173   13778.090085  -24327.929725  \n",
       "2  116307.632285 -123675.000663   -1287.383031   75744.734256 -139662.879483  \n",
       "3   58988.534750   19964.206326  -71240.328945   89831.583864  237250.740080  \n",
       "4 -427029.964061  280590.605288 -126215.125061  163671.387319   31819.637475  "
      ]
     },
     "execution_count": 31,
     "metadata": {},
     "output_type": "execute_result"
    }
   ],
   "source": [
    "X_pca.head()"
   ]
  },
  {
   "cell_type": "markdown",
   "id": "7b0611f5",
   "metadata": {},
   "source": [
    "## Feature Selection and model building"
   ]
  },
  {
   "cell_type": "code",
   "execution_count": 33,
   "id": "2a2f7cdd",
   "metadata": {},
   "outputs": [],
   "source": [
    "# Use train_test_split in sklearn.cross_validation to split data into train and test sets\n",
    "from sklearn.model_selection import train_test_split\n",
    "\n",
    "X_train, X_test, y_train, y_test = train_test_split(X, y, train_size=0.70, random_state=1)"
   ]
  },
  {
   "cell_type": "code",
   "execution_count": 34,
   "id": "7f215f57",
   "metadata": {},
   "outputs": [
    {
     "name": "stdout",
     "output_type": "stream",
     "text": [
      "(48842, 15)\n",
      "(48842, 1799)\n"
     ]
    }
   ],
   "source": [
    "# The total number of features have grown substantially after dummying and adding interaction terms\n",
    "\n",
    "print(df.shape)\n",
    "print(X.shape)"
   ]
  },
  {
   "cell_type": "code",
   "execution_count": 35,
   "id": "b4367d9f",
   "metadata": {},
   "outputs": [
    {
     "name": "stderr",
     "output_type": "stream",
     "text": [
      "/home/mohammad/anaconda3/lib/python3.9/site-packages/sklearn/feature_selection/_univariate_selection.py:114: UserWarning: Features [ 265  290  454  544  547  761  770  783  901  934  936 1022 1129 1140\n",
      " 1241 1256 1266 1273 1277 1283 1366 1376 1381 1534] are constant.\n",
      "  warnings.warn(\"Features %s are constant.\" % constant_features_idx,\n",
      "/home/mohammad/anaconda3/lib/python3.9/site-packages/sklearn/feature_selection/_univariate_selection.py:116: RuntimeWarning: invalid value encountered in true_divide\n",
      "  f = msb / msw\n"
     ]
    }
   ],
   "source": [
    "# Such a large set of features can cause overfitting and also slow computing\n",
    "# Use feature selection to select the most important features\n",
    "\n",
    "import sklearn.feature_selection\n",
    "\n",
    "select = sklearn.feature_selection.SelectKBest(k=20)\n",
    "selected_features = select.fit(X_train, y_train)\n",
    "indices_selected = selected_features.get_support(indices=True)\n",
    "colnames_selected = [X.columns[i] for i in indices_selected]\n",
    "\n",
    "X_train_selected = X_train[colnames_selected]\n",
    "X_test_selected = X_test[colnames_selected]"
   ]
  },
  {
   "cell_type": "code",
   "execution_count": 36,
   "id": "d84383d6",
   "metadata": {},
   "outputs": [
    {
     "data": {
      "text/plain": [
       "['capitalgain',\n",
       " 'marital-status_Married-civ-spouse',\n",
       " 'relationship_Husband',\n",
       " 'age_education-num',\n",
       " 'age_marital-status_Married-civ-spouse',\n",
       " 'age_relationship_Husband',\n",
       " 'fnlwgt_marital-status_Married-civ-spouse',\n",
       " 'education-num_capitalgain',\n",
       " 'education-num_hoursperweek',\n",
       " 'education-num_marital-status_Married-civ-spouse',\n",
       " 'education-num_relationship_Husband',\n",
       " 'hoursperweek_marital-status_Married-civ-spouse',\n",
       " 'hoursperweek_relationship_Husband',\n",
       " 'marital-status_Married-civ-spouse_relationship_Husband',\n",
       " 'marital-status_Married-civ-spouse_race_White',\n",
       " 'marital-status_Married-civ-spouse_sex_Male',\n",
       " 'marital-status_Married-civ-spouse_native-country_United-States',\n",
       " 'relationship_Husband_race_White',\n",
       " 'relationship_Husband_sex_Male',\n",
       " 'relationship_Husband_native-country_United-States']"
      ]
     },
     "execution_count": 36,
     "metadata": {},
     "output_type": "execute_result"
    }
   ],
   "source": [
    "colnames_selected"
   ]
  },
  {
   "cell_type": "code",
   "execution_count": 37,
   "id": "4b93fa73",
   "metadata": {},
   "outputs": [],
   "source": [
    "from sklearn.linear_model import LogisticRegression\n",
    "from sklearn.metrics import roc_auc_score\n",
    "\n",
    "def find_model_perf(X_train, y_train, X_test, y_test):\n",
    "    model = LogisticRegression()\n",
    "    model.fit(X_train, y_train)\n",
    "    y_hat = [x[1] for x in model.predict_proba(X_test)]\n",
    "    auc = roc_auc_score(y_test, y_hat)\n",
    "    \n",
    "    return auc"
   ]
  },
  {
   "cell_type": "code",
   "execution_count": 38,
   "id": "e5c86c14",
   "metadata": {},
   "outputs": [
    {
     "name": "stdout",
     "output_type": "stream",
     "text": [
      "0.6533638856821805\n"
     ]
    }
   ],
   "source": [
    "auc_processed = find_model_perf(X_train_selected, y_train, X_test_selected, y_test)\n",
    "print(auc_processed)"
   ]
  },
  {
   "cell_type": "markdown",
   "id": "5b3ce492",
   "metadata": {},
   "source": [
    "## Build model using unprocessed data"
   ]
  },
  {
   "cell_type": "code",
   "execution_count": 39,
   "id": "15a2304a",
   "metadata": {},
   "outputs": [
    {
     "name": "stdout",
     "output_type": "stream",
     "text": [
      "(48842, 15)\n",
      "(45222, 15)\n"
     ]
    }
   ],
   "source": [
    "# Drop missing values so model does not throw any error\n",
    "\n",
    "df_unprocessed = df\n",
    "df_unprocessed = df_unprocessed.dropna(axis=0, how='any')\n",
    "print(df.shape)\n",
    "print(df_unprocessed.shape)"
   ]
  },
  {
   "cell_type": "code",
   "execution_count": 40,
   "id": "6ba0221f",
   "metadata": {},
   "outputs": [
    {
     "name": "stderr",
     "output_type": "stream",
     "text": [
      "/tmp/ipykernel_700788/1629137789.py:5: FutureWarning: In a future version of pandas all arguments of DataFrame.drop except for the argument 'labels' will be keyword-only\n",
      "  df_unprocessed = df_unprocessed.drop(col_name, 1)\n"
     ]
    }
   ],
   "source": [
    "# Remove no-numeric columns so model does not throw an error\n",
    "\n",
    "for col_name in df_unprocessed.columns:\n",
    "    if df_unprocessed[col_name].dtypes not in ['int32', 'int64', 'float32', 'float64']:\n",
    "        df_unprocessed = df_unprocessed.drop(col_name, 1)"
   ]
  },
  {
   "cell_type": "code",
   "execution_count": 42,
   "id": "f5c1fe71",
   "metadata": {},
   "outputs": [
    {
     "name": "stderr",
     "output_type": "stream",
     "text": [
      "/tmp/ipykernel_700788/2459633510.py:3: FutureWarning: In a future version of pandas all arguments of DataFrame.drop except for the argument 'labels' will be keyword-only\n",
      "  X_unprocessed = df_unprocessed.drop('class', 1)\n"
     ]
    }
   ],
   "source": [
    "# Split into features and outcomes\n",
    "\n",
    "X_unprocessed = df_unprocessed.drop('class', 1)\n",
    "y_unprocessed = df_unprocessed['class']"
   ]
  },
  {
   "cell_type": "code",
   "execution_count": 43,
   "id": "da46be27",
   "metadata": {},
   "outputs": [
    {
     "name": "stdout",
     "output_type": "stream",
     "text": [
      "   age  fnlwgt  education-num  capitalgain  capitalloss  hoursperweek\n",
      "0    2   77516             13            1            0             2\n",
      "1    3   83311             13            0            0             0\n",
      "2    2  215646              9            0            0             2\n",
      "3    3  234721              7            0            0             2\n",
      "4    1  338409             13            0            0             2\n"
     ]
    }
   ],
   "source": [
    "# Take a look again at what the unprocessed feature set looks like\n",
    "print(X_unprocessed.head())"
   ]
  },
  {
   "cell_type": "code",
   "execution_count": 45,
   "id": "7f2c8191",
   "metadata": {},
   "outputs": [
    {
     "name": "stdout",
     "output_type": "stream",
     "text": [
      "0.5060354284773552\n"
     ]
    }
   ],
   "source": [
    "# Split unprocessed data into train and test set\n",
    "# Build model and assess performance\n",
    "\n",
    "X_train_unprocessed, X_test_unprocessed, y_train, y_test = train_test_split(\n",
    "    X_unprocessed, y_unprocessed, train_size=0.70, random_state=1)\n",
    "\n",
    "auc_unprocessed = find_model_perf(X_train_unprocessed, y_train, X_test_unprocessed, y_test)\n",
    "print(auc_unprocessed)"
   ]
  },
  {
   "cell_type": "code",
   "execution_count": 46,
   "id": "17c1ebd9",
   "metadata": {},
   "outputs": [
    {
     "name": "stdout",
     "output_type": "stream",
     "text": [
      "AUC of model with data preprocessing: 0.6533638856821805\n",
      "AUC of model with data without preprocessing: 0.5060354284773552\n",
      "Model improvement of preprocessing: 29.11425740449282%\n"
     ]
    }
   ],
   "source": [
    "# Compare model performance\n",
    "print('AUC of model with data preprocessing: {auc}'.format(auc=auc_processed))\n",
    "print('AUC of model with data without preprocessing: {auc}'.format(auc=auc_unprocessed))\n",
    "per_improve = ((auc_processed-auc_unprocessed)/auc_unprocessed)*100\n",
    "print('Model improvement of preprocessing: {per_improve}%'.format(per_improve = per_improve))"
   ]
  },
  {
   "cell_type": "code",
   "execution_count": null,
   "id": "e4beeb50",
   "metadata": {},
   "outputs": [],
   "source": []
  }
 ],
 "metadata": {
  "kernelspec": {
   "display_name": "Python 3 (ipykernel)",
   "language": "python",
   "name": "python3"
  },
  "language_info": {
   "codemirror_mode": {
    "name": "ipython",
    "version": 3
   },
   "file_extension": ".py",
   "mimetype": "text/x-python",
   "name": "python",
   "nbconvert_exporter": "python",
   "pygments_lexer": "ipython3",
   "version": "3.9.7"
  }
 },
 "nbformat": 4,
 "nbformat_minor": 5
}
